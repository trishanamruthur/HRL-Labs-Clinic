{
 "cells": [
  {
   "cell_type": "markdown",
   "metadata": {},
   "source": [
    "This latex has some weird errors please fix it!\n",
    "\n",
    "$$\n",
    "x^hello = \\varphi_sub\n",
    "$$\n",
    "\n",
    "x^32 = 1\n"
   ]
  }
 ],
 "metadata": {
  "language_info": {
   "name": "python"
  }
 },
 "nbformat": 4,
 "nbformat_minor": 2
}
