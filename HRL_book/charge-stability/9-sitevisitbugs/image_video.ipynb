{
 "cells": [
  {
   "cell_type": "markdown",
   "metadata": {},
   "source": [
    "Please add a video or image into this python notebook, using our documentation. \n",
    "\n",
    "You can find an image (puppy.jpeg) and video (HRL_video.mp4)"
   ]
  }
 ],
 "metadata": {
  "language_info": {
   "name": "python"
  }
 },
 "nbformat": 4,
 "nbformat_minor": 2
}
