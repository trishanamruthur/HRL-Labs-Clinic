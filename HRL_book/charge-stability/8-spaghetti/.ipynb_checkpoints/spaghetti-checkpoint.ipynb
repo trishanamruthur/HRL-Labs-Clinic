{
 "cells": [
  {
   "cell_type": "markdown",
   "metadata": {},
   "source": [
    "# Spaghetti Diagrams"
   ]
  },
  {
   "cell_type": "code",
   "execution_count": 35,
   "metadata": {},
   "outputs": [
    {
     "data": {
      "text/plain": [
       "'/home/peter/tmp.html'"
      ]
     },
     "execution_count": 35,
     "metadata": {},
     "output_type": "execute_result"
    }
   ],
   "source": [
    "import numpy as np\n",
    "\n",
    "from bokeh.layouts import column, row\n",
    "from bokeh.models import ColumnDataSource, CustomJS, Slider, MultiLine\n",
    "from bokeh.plotting import figure, show, save, output_file\n",
    "from bokeh.io import output_file\n",
    "from bokeh.resources import CDN\n",
    "from bokeh.embed import file_html\n",
    "import IPython\n",
    "\n",
    "UMAX = 10\n",
    "tc = .3\n",
    "YMIN = -2\n",
    "YMAX = 4\n",
    "NUM = 100\n",
    "biases = np.linspace(-2 * UMAX, 2 * UMAX, NUM)\n",
    "lambda1 = np.zeros(NUM)\n",
    "lambda2 = np.zeros(NUM)\n",
    "lambda3 = np.zeros(NUM)\n",
    "\n",
    "def determinant(epsilon):\n",
    "    \"\"\"Calculate determinant of H - lambda I for given bias epsilon.\"\"\"\n",
    "    # note: my t_cs seem of by a factor of \\sqrt{2}?\n",
    "    # cf. Burkard w/ 2\\sqrt{2}t_c separation at \\epsilon=\\pm U\n",
    "    return np.roots(np.array([1, -2 * UMAX, UMAX**2 - epsilon**2 - 2 * tc**2, 2 * UMAX * tc**2]))\n",
    "\n",
    "roots = np.zeros((NUM, 3))\n",
    "for i in range(NUM):\n",
    "    roots[i] = determinant(biases[i])\n",
    "# there is only one crossing, of the (2,0)&(0,2) states at \\epsilon=0.\n",
    "# it's probably out of graph range, but...\n",
    "\n",
    "sorted = np.sort(roots)\n",
    "halfway = (NUM-1) // 2 + 1\n",
    "# (2,0)\n",
    "lambda1[:halfway] = sorted[:halfway,1]\n",
    "lambda1[halfway:] = sorted[halfway:,2]\n",
    "# (1,1)\n",
    "lambda2 = sorted[:,0]\n",
    "# (0,2)\n",
    "lambda3[:halfway] = sorted[:halfway,2]\n",
    "lambda3[halfway:] = sorted[halfway:,1]\n",
    "\n",
    "source = ColumnDataSource(data=dict(biases=biases, lambda1=lambda1, lambda2=lambda2, lambda3=lambda3))\n",
    "\n",
    "plot = figure(y_range=(YMIN, YMAX), x_range=(-2 * UMAX, 2 * UMAX), width=400, height=400,\n",
    "              x_axis_label=r\"$$\\text{bias }\\epsilon\\text{ (energy)}$$\",\n",
    "              y_axis_label=r\"$$V_2\\text{ (arbitrary units)}$$\")\n",
    "\n",
    "# colors are for debug only---they are misleading\n",
    "plot.line('biases', 'lambda1', source=source, color=\"red\")\n",
    "plot.line('biases', 'lambda2', source=source, color=\"blue\")\n",
    "plot.line('biases', 'lambda3', source=source, color=\"green\")\n",
    "\n",
    "U_slider = Slider(start=1, end=UMAX, value=UMAX // 2, step=.05, title=r\"$$U$$\")\n",
    "tc_slider = Slider(start=0.05, end=0.5, value=tc, step=.01, title=r\"$$t_c$$\")\n",
    "\n",
    "callback = CustomJS(args=dict(source=source, Uslider=U_slider, tcslider=tc_slider, num=NUM),\n",
    "                    code=\"\"\"\n",
    "    const U = Uslider.value;\n",
    "    const tc = tcslider.value;\n",
    "    const NUM = num;\n",
    "    const HALFWAY = Math.floor((NUM - 1) / 2) + 1;\n",
    "\n",
    "    const biases = source.data.biases;\n",
    "    const lambda1 = [];\n",
    "    const lambda2 = [];\n",
    "    const lambda3 = [];\n",
    "\n",
    "    var roots = [];\n",
    "    for (let i = 0; i < biases.length; i++) {\n",
    "        roots = math.polynomialRoot(2 * U * tc * tc, U * U - biases[i] * biases[i] - 2 * tc * tc, -2 * U, 1);\n",
    "        roots.sort();\n",
    "        lambda2.push(roots[0]);\n",
    "        if (i < HALFWAY) {\n",
    "            lambda1.push(roots[1]);\n",
    "            lambda3.push(roots[2]);\n",
    "        } else {\n",
    "            lambda3.push(roots[1]);\n",
    "            lambda1.push(roots[2]);\n",
    "        }\n",
    "    }\n",
    "\n",
    "    source.data = { biases, lambda1, lambda2, lambda3 }\n",
    "\"\"\")\n",
    "\n",
    "U_slider.js_on_change('value', callback)\n",
    "tc_slider.js_on_change('value', callback)\n",
    "\n",
    "html_repr = file_html(row(plot, column(U_slider, tc_slider)), CDN)\n",
    "IPython.display.HTML(html_repr)\n",
    "# debugging\n",
    "# output_file(filename=\"/home/peter/tmp.html\")\n",
    "# save(plot)"
   ]
  },
  {
   "cell_type": "code",
   "execution_count": null,
   "metadata": {},
   "outputs": [],
   "source": []
  }
 ],
 "metadata": {
  "kernelspec": {
   "display_name": "Python 3 (ipykernel)",
   "language": "python",
   "name": "python3"
  },
  "language_info": {
   "codemirror_mode": {
    "name": "ipython",
    "version": 3
   },
   "file_extension": ".py",
   "mimetype": "text/x-python",
   "name": "python",
   "nbconvert_exporter": "python",
   "pygments_lexer": "ipython3",
   "version": "3.10.12"
  }
 },
 "nbformat": 4,
 "nbformat_minor": 4
}
