{
 "cells": [
  {
   "cell_type": "markdown",
   "metadata": {},
   "source": [
    "## Roadmap \n",
    "\n",
    "If you are working on measurement in the SLEDGE device, then here is a proposed path to take given our current content. \n",
    "\n",
    "** LINKING IS NOT WORKING BETWEEN PAGES **\n",
    "\n",
    "1. [Loading and Unloading Electrons into the SLEDGE Device](../HRL_book/charge-stability/1-load-unload/loading-and-unloading-single-dot.ipynb)\n",
    "    - This goes into Coulomb Blockades and focuses on a single dot\n",
    "2. [Measuring Charge in Quantum Dots](../HRL_book/charge-stability/2-sensing-dot/sensing-dot.ipynb)\n",
    "    - This goes into charge sensing dots and cross capacitances\n",
    "3. [Double Quantum Dots](../HRL_book/charge-stability/3-double-dot/double-dot.ipynb)\n",
    "    - This is goes into the Stability diagrams and cross capacitances of different gates\n",
    "4. [Charge Sensing in Quantum Dot Arrays](../HRL_book/charge-stability/4-qd-arrays/quantum-dot-arrays.md)\n",
    "    - Looks into the structure of quantum dot devices in HRL"
   ]
  }
 ],
 "metadata": {
  "language_info": {
   "name": "python"
  }
 },
 "nbformat": 4,
 "nbformat_minor": 2
}
