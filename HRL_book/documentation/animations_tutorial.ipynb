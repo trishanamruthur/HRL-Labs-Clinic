{
 "cells": [
  {
   "cell_type": "markdown",
   "metadata": {},
   "source": [
    "# Animations Tutorial"
   ]
  },
  {
   "cell_type": "markdown",
   "metadata": {},
   "source": [
    "To create animations, we use the python package [manim](https://www.manim.community/). To begin, you'll need to install the necessary packages on your machine. You can find documentation on how to install all the packages: [here](https://docs.manim.community/en/stable/installation.html)."
   ]
  },
  {
   "cell_type": "markdown",
   "metadata": {},
   "source": [
    "Manim is a useful tool to create a wide array of different animations. There are a multitude of different useful commands to create useful animations. Using python, we can create valuable depictions. "
   ]
  },
  {
   "cell_type": "markdown",
   "metadata": {},
   "source": [
    "You can find the building blocks for manim [here](https://docs.manim.community/en/stable/tutorials/building_blocks.html). Below is an example of  simple animation of the loading and unloading of a single quantum dot. "
   ]
  },
  {
   "cell_type": "code",
   "execution_count": 1,
   "metadata": {},
   "outputs": [
    {
     "data": {
      "text/html": [
       "<video controls   height=\"400\">\n",
       " <source src=\"data:None;base64,./PotentialWell.mp4\" type=\"None\">\n",
       " Your browser does not support the video tag.\n",
       " </video>"
      ],
      "text/plain": [
       "<IPython.core.display.Video object>"
      ]
     },
     "execution_count": 1,
     "metadata": {},
     "output_type": "execute_result"
    }
   ],
   "source": [
    "from IPython.display import Video\n",
    "Video(\"../charge-stability/1-load-unload/PotentialWell.mp4\", embed=True, height=400)"
   ]
  },
  {
   "cell_type": "markdown",
   "metadata": {},
   "source": []
  },
  {
   "cell_type": "code",
   "execution_count": null,
   "metadata": {},
   "outputs": [],
   "source": [
    "%%manim -qm PotentialWell\n",
    "\n",
    "class PotentialWell(Scene):\n",
    "    def construct(self):\n",
    "        graph = ImplicitFunction(\n",
    "        lambda x, y: -(x**2-2)*(x**2-2)+2 -y,color=YELLOW)\n",
    "\n",
    "        dot = Dot(color=BLUE).shift(3*LEFT)\n",
    "\n",
    "\n",
    "\n",
    "        # Rectangles (Gates)\n",
    "        rect1 = Rectangle(width=2.0, height=6.0,color=GRAY_D)\n",
    "        rect1.set_fill(GRAY_D,opacity=0.5)\n",
    "        rect2 = Rectangle(width=1.0, height=6.0,color=GRAY_D)\n",
    "        rect2.set_fill(GRAY_D,opacity=0.5)\n",
    "        rect3 = Rectangle(width=2.0, height=6.0,color=GRAY_D)\n",
    "        rect3.set_fill(GRAY_D,opacity=0.5)\n",
    "        rects = VGroup(rect1,rect2,rect3).arrange(buff=0.3)\n",
    "        rects.set_z_index(graph.z_index - 1 )\n",
    "\n",
    "        # Labels (Gates)\n",
    "        text1 = Text('T1')\n",
    "        text2 = Text('M1')\n",
    "        text3 = Text('T2')\n",
    "        labels = VGroup(text1, text2, text3).arrange(buff=1.3)\n",
    "        labels.move_to(3.5*UP)\n",
    "\n",
    "        # Labels \n",
    "        source = Text('Source').scale(1).move_to([-5,2,0])\n",
    "        drain = Text('Drain').scale(1).move_to([5,2,0])\n",
    "\n",
    "        # Energy Levels\n",
    "        line1 = Line(0,1, color=RED)\n",
    "        line1.put_start_and_end_on([-0.75,0,0], [0.75,0,0])\n",
    "        line2 = Line(0,1, color=RED)\n",
    "        line2.put_start_and_end_on([-10,0,0], [-1.9,0,0])\n",
    "        line3 = Line(0,1, color=RED)\n",
    "        line3.put_start_and_end_on([1.9,0,0], [10,0,0])\n",
    "        redlabel = Text(\"Fermi Energy Levels\", color=RED).scale(0.5).move_to([-5,-0.5,0])\n",
    "        energy = VGroup(line1,line2,line3,redlabel)\n",
    "\n",
    "        self.add(graph, source, energy, drain, rects, labels)\n",
    "        self.add(rects, labels)\n",
    "\n",
    "        # self.play(line3.put_start_and_end_on([1.9,3,0], [10,0,0]))\n",
    "        line3_new = Line(0,1, color=RED).put_start_and_end_on([1.9,3,0], [10,3,0])\n",
    "        \n",
    "        # Regular energy\n",
    "        \n",
    "        self.wait(1)\n",
    "        self.play(Create(dot))\n",
    "        self.wait(1)\n",
    "        self.play(Rotating(dot, radians=-PI, about_point=[-1.5,0,0], run_time=2))\n",
    "        self.wait()\n",
    "        self.play(Rotating(dot, radians=-PI, about_point=[1.5,0,0], run_time=2))\n",
    "        self.wait()\n",
    "        self.play(FadeOut(dot))\n",
    "\n",
    "        # Lower energy \n",
    "        dot.move_to([-3,0,0])\n",
    "        self.wait(2)\n",
    "        self.play(line1.animate.shift(0.25*DOWN))\n",
    "        self.play(Create(dot))\n",
    "        self.wait(1)\n",
    "        self.play(Rotating(dot, radians=-PI, about_point=[-1.5,0,0], run_time=2))\n",
    "        self.wait()\n",
    "        self.play(line1.animate.shift(0.25*UP))\n",
    "        self.wait()\n",
    "        self.play(Rotating(dot, radians=-PI, about_point=[1.5,0,0], run_time=2))\n",
    "        self.wait()\n",
    "        self.play(FadeOut(dot))\n",
    "\n",
    "        # Higher ending energy  (coulomb blockade)\n",
    "        dot.move_to([-3,0,0])\n",
    "        self.wait(2)\n",
    "        self.play(line1.animate.shift(0.25*UP))\n",
    "        self.play(Create(dot))\n",
    "        self.wait()\n",
    "        moretext = Text(\"dot unable to move\", color=RED).scale(0.5).move_to([-5,0.5,0])\n",
    "        self.play(Create(moretext))\n",
    "        self.wait()\n",
    "        self.play(FadeOut(moretext))\n",
    "        self.play(FadeOut(dot))"
   ]
  }
 ],
 "metadata": {
  "kernelspec": {
   "display_name": "Python 3",
   "language": "python",
   "name": "python3"
  },
  "language_info": {
   "codemirror_mode": {
    "name": "ipython",
    "version": 3
   },
   "file_extension": ".py",
   "mimetype": "text/x-python",
   "name": "python",
   "nbconvert_exporter": "python",
   "pygments_lexer": "ipython3",
   "version": "3.12.0"
  }
 },
 "nbformat": 4,
 "nbformat_minor": 2
}
