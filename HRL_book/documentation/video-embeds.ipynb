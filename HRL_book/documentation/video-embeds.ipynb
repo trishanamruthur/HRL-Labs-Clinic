{
 "cells": [
  {
   "cell_type": "markdown",
   "metadata": {},
   "source": [
    "# Video Embed"
   ]
  },
  {
   "cell_type": "markdown",
   "metadata": {},
   "source": [
    "With markdown, we can create clickable image links to links to videos: ```[![\"image name\"](\"image link\")](video link)```\n",
    "\n",
    "[![Metallurgy Breakthrough: 3D Printing High-Strength Aluminum](https://img.youtube.com/vi/8YwlenA4bdg/maxresdefault.jpg)](https://www.youtube.com/watch?v=8YwlenA4bdg)"
   ]
  },
  {
   "cell_type": "markdown",
   "metadata": {},
   "source": [
    "We can embed local video files into a page in pure markdown. To use this method, you should drop the video you would like to embed in the videos folder in the root directory (i.e. `HRL_book/videos`). However, when you reference the video, pretend as though it is in the root directory itself (not in the videos folder). So for instance here we use `../PotentialWell.mp4` instead of the actual path `../videos/PotentialWell.mp4`.\n",
    "\n",
    "The code\n",
    "```html\n",
    "<video src=\"../PotentialWell.mp4\" width=\"400\" type=\"video/mp4\" controls></video>\n",
    "```\n",
    "renders the video\n",
    "\n",
    "<video src=\"../PotentialWell.mp4\" width=\"400\" type=\"video/mp4\" controls></video>"
   ]
  },
  {
   "cell_type": "markdown",
   "metadata": {},
   "source": [
    "\n",
    "Or we could directly embed Youtube videos\n",
    "\n",
    "<html>\n",
    "<body>\n",
    "<iframe width=\"420\" height=\"345\" src=\"https://www.youtube.com/embed/8YwlenA4bdg\">\n",
    "</iframe>\n",
    "\n",
    "</body>\n",
    "</html>\n",
    "\n",
    "The code \n",
    "```html\n",
    "<iframe width=\"420\" height=\"345\" src=\"https://www.youtube.com/embed/8YwlenA4bdg\">\n",
    "</iframe>\n",
    "```\n",
    "embeds the video"
   ]
  }
 ],
 "metadata": {
  "kernelspec": {
   "display_name": "Python 3",
   "language": "python",
   "name": "python3"
  },
  "language_info": {
   "codemirror_mode": {
    "name": "ipython",
    "version": 3
   },
   "file_extension": ".py",
   "mimetype": "text/x-python",
   "name": "python",
   "nbconvert_exporter": "python",
   "pygments_lexer": "ipython3",
   "version": "3.11.4"
  },
  "orig_nbformat": 4
 },
 "nbformat": 4,
 "nbformat_minor": 2
}
