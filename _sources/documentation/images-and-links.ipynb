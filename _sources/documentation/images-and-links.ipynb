{
 "cells": [
  {
   "cell_type": "markdown",
   "metadata": {},
   "source": [
    "# Images and Links"
   ]
  },
  {
   "cell_type": "markdown",
   "metadata": {},
   "source": [
    "Here is an image:\n",
    "\n",
    "![HRL](hrl-logo.png)"
   ]
  },
  {
   "cell_type": "markdown",
   "metadata": {},
   "source": [
    "Here is a fancier version: \n",
    "\n",
    "```{image} hrl-logo.png\n",
    ":alt: HRL Logo\n",
    ":height: 250px\n",
    ":align: center\n",
    ":name: fancyHRL\n",
    "\n",
    "```\n",
    "\n",
    "And over here are some neat [](plots)!\n",
    "\n",
    "Or a [relevant publication](./pub.pdf)."
   ]
  },
  {
   "cell_type": "markdown",
   "metadata": {},
   "source": [
    "Here is a figure with a caption:\n",
    "\n",
    "```{figure} beach.jpg\n",
    ":alt: A nice view.\n",
    ":height: 250px\n",
    ":align: center\n",
    ":name: beach\n",
    "\n",
    "A premier destination for our nation’s very best scientists and engineers&mdash;it's *Malibu*!\n",
    "```"
   ]
  },
  {
   "cell_type": "markdown",
   "metadata": {},
   "source": []
  }
 ],
 "metadata": {
  "language_info": {
   "name": "python"
  },
  "orig_nbformat": 4
 },
 "nbformat": 4,
 "nbformat_minor": 2
}
