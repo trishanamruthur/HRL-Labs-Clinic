{
 "cells": [
  {
   "cell_type": "markdown",
   "metadata": {},
   "source": [
    "# \"Wall of Truth\" Template"
   ]
  },
  {
   "cell_type": "markdown",
   "metadata": {},
   "source": [
    "To make a compilation of conventions to follow, markdown cells can be used for text descriptions and diagrams.\n",
    "\n",
    "Jupyter Book also uses [MathJax](https://docs.mathjax.org/en/latest/) for math typesetting in-line a markdown cell.\n",
    "\n",
    "The following is a sample from the [tunneling page](./HRL_book/charge-stability/1-load-unload/tunneling.ipynb) that demonstrates the ability to have sample equations or notation.\n",
    "\n",
    "---\n",
    "From [Davies et al 1995](https://doi.org/10.1063/1.359446), the gate potential, assuming a finite rectangle gate, is given by \n",
    "\n",
    "$$ \n",
    "\\phi_G(r,d) = V\\cdot (g(x-L, y-B)+g(x-L, T-y)+g(R-x, y-B)+g(R-x, T-y))\n",
    "$$ \n",
    "---\n",
    "\n",
    "Conventions for code can be inserted with embedded code blocks or short samples can be inserted ``` like so```.\n",
    "\n",
    "Definitions can be recorded in the [glossary](./HRL_book/charge-stability/gloss.md). \n"
   ]
  },
  {
   "cell_type": "markdown",
   "metadata": {},
   "source": [
    "Jupyter Book uses [MyST Markdown](https://myst-parser.readthedocs.io/en/latest/syntax/typography.html), and further details on special content blocks can be found [here](https://jupyterbook.org/en/stable/content/content-blocks.html)."
   ]
  }
 ],
 "metadata": {
  "language_info": {
   "name": "python"
  }
 },
 "nbformat": 4,
 "nbformat_minor": 2
}
