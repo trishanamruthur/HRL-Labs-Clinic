{
 "cells": [
  {
   "attachments": {},
   "cell_type": "markdown",
   "metadata": {},
   "source": [
    "# Subtopic Quiz\n",
    "To complete this subtopic, please complete the following quiz. "
   ]
  },
  {
   "cell_type": "code",
   "execution_count": 3,
   "metadata": {
    "tags": [
     "\"remove-input\""
    ]
   },
   "outputs": [
    {
     "ename": "AttributeError",
     "evalue": "module 'importlib.resources' has no attribute 'files'",
     "output_type": "error",
     "traceback": [
      "\u001b[0;31m---------------------------------------------------------------------------\u001b[0m",
      "\u001b[0;31mAttributeError\u001b[0m                            Traceback (most recent call last)",
      "\u001b[1;32m/Users/rebeccalilyverghese/Desktop/Clinic/HRL-Labs-Clinic/Charge-Stability/charge-stability/subtopicquiz.ipynb Cell 2\u001b[0m line \u001b[0;36m3\n\u001b[1;32m      <a href='vscode-notebook-cell:/Users/rebeccalilyverghese/Desktop/Clinic/HRL-Labs-Clinic/Charge-Stability/charge-stability/subtopicquiz.ipynb#W3sZmlsZQ%3D%3D?line=0'>1</a>\u001b[0m \u001b[39mfrom\u001b[39;00m \u001b[39mjupyterquiz\u001b[39;00m \u001b[39mimport\u001b[39;00m display_quiz\n\u001b[0;32m----> <a href='vscode-notebook-cell:/Users/rebeccalilyverghese/Desktop/Clinic/HRL-Labs-Clinic/Charge-Stability/charge-stability/subtopicquiz.ipynb#W3sZmlsZQ%3D%3D?line=2'>3</a>\u001b[0m display_quiz(\u001b[39m\"\u001b[39;49m\u001b[39m./4-qd-arrays/subtopic_quiz.json\u001b[39;49m\u001b[39m\"\u001b[39;49m)\n",
      "File \u001b[0;32m~/Desktop/Clinic/HRL-Labs-Clinic/venv/lib/python3.8/site-packages/jupyterquiz/dynamic.py:126\u001b[0m, in \u001b[0;36mdisplay_quiz\u001b[0;34m(ref, num, shuffle_questions, shuffle_answers, preserve_responses, border_radius, question_alignment, max_width, colors)\u001b[0m\n\u001b[1;32m    124\u001b[0m styles\u001b[39m+\u001b[39m\u001b[39m=\u001b[39m \u001b[39m\"\u001b[39m\u001b[39m}\u001b[39m\u001b[39m\\n\u001b[39;00m\u001b[39m\\n\u001b[39;00m\u001b[39m\"\u001b[39m\n\u001b[1;32m    125\u001b[0m \u001b[39m#print(styles)\u001b[39;00m\n\u001b[0;32m--> 126\u001b[0m f \u001b[39m=\u001b[39m importlib\u001b[39m.\u001b[39;49mresources\u001b[39m.\u001b[39;49mfiles(package)\u001b[39m.\u001b[39mjoinpath(\u001b[39m'\u001b[39m\u001b[39mstyles.css\u001b[39m\u001b[39m'\u001b[39m)\n\u001b[1;32m    127\u001b[0m css \u001b[39m=\u001b[39m f\u001b[39m.\u001b[39mread_bytes()\n\u001b[1;32m    128\u001b[0m styles \u001b[39m+\u001b[39m\u001b[39m=\u001b[39m css\u001b[39m.\u001b[39mdecode(\u001b[39m\"\u001b[39m\u001b[39mutf-8\u001b[39m\u001b[39m\"\u001b[39m)\n",
      "\u001b[0;31mAttributeError\u001b[0m: module 'importlib.resources' has no attribute 'files'"
     ]
    }
   ],
   "source": [
    "from jupyterquiz import display_quiz\n",
    "\n",
    "display_quiz(\"./4-qd-arrays/subtopic_quiz.json\")"
   ]
  }
 ],
 "metadata": {
  "kernelspec": {
   "display_name": "venv",
   "language": "python",
   "name": "python3"
  },
  "language_info": {
   "codemirror_mode": {
    "name": "ipython",
    "version": 3
   },
   "file_extension": ".py",
   "mimetype": "text/x-python",
   "name": "python",
   "nbconvert_exporter": "python",
   "pygments_lexer": "ipython3",
   "version": "3.8.3"
  }
 },
 "nbformat": 4,
 "nbformat_minor": 2
}
