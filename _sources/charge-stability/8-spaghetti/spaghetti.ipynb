{
 "cells": [
  {
   "cell_type": "markdown",
   "metadata": {},
   "source": [
    "# Pauli Spin Blockade"
   ]
  },
  {
   "cell_type": "markdown",
   "metadata": {},
   "source": [
    "Blah blah intro text."
   ]
  },
  {
   "cell_type": "markdown",
   "metadata": {},
   "source": [
    "## Intro to Spaghetti Diagrams"
   ]
  },
  {
   "cell_type": "markdown",
   "metadata": {},
   "source": [
    "Recall the [stability diagrams](sec:stability-diagrams) of double-dots from earlier. Suppose we want to examine the cases where there are exactly two electrons in the double-dot. In particular, we could examine a diagonal slice of the stablility diagram that passes through the (2,0), (1,1), and (0,2) regions. Movement along this line can be characterized in terms of the **bias** $\\epsilon=\\mu_2-\\mu_1$---the difference in potentials of the two dots. Clearly, when the bias is high, the (2,0) state is more likely; when the bias is very negative, the (0,2) state is most favorable, and when the bias is small in magnitude the (1,1) state is most common. But we'd like to be more quantitative than that. We can create a simple model for this system, and then build on it later."
   ]
  },
  {
   "cell_type": "markdown",
   "metadata": {},
   "source": [
    "We will assume the tunnel coupling between the dots is a constant $t_c$, and that having two electrons in the same dot increases the energy of the system by a constant $U$ due to Coulomb repulsion. The energies of the (2,0), (1,1), and (0,2) states are thus $2\\mu_1+U$, $\\mu_1+\\mu_2$, and $2\\mu_2+U$ respectively. To simplify the math, let us instead set $\\frac{1}{2}(\\mu_1+\\mu_2)$ as our new 0 for energy, so that $\\mu_1$ becomes $-\\frac{\\epsilon}{2}$ and $\\mu_2$ becomes $\\frac{\\epsilon}{2}$. Then the energies can be expressed as $U-\\epsilon$, 0, and $U+\\epsilon$. From the two (1,1) states, a (2,0) state can be reached by moving the right electron left. From the (2,0) state, one electron can tunnel to the other dot to form the (1,1) state with chance $t_c$. However, it's also possible for the *other* electron to do so instead. In any case, there is no way to move immediately to the (0,2) case. Similar considerations work for the (0,2) state. Putting this all together, we get $\\begin{equation}\\hat H=\\begin{pmatrix}U-\\epsilon&\\sqrt{2}t_c&0\\\\\\sqrt{2}t_c&0&\\sqrt{2}t_c\\\\0&\\sqrt{2}t_c&U+\\epsilon\\end{pmatrix}.\\end{equation}$"
   ]
  },
  {
   "cell_type": "markdown",
   "metadata": {},
   "source": [
    "Solving for the eigenvalues is technically analytically possible, but not particularly illuminating. Instead let's see a graph of them for various values of $\\epsilon$."
   ]
  },
  {
   "cell_type": "code",
   "execution_count": 35,
   "metadata": {},
   "outputs": [
    {
     "data": {
      "text/plain": [
       "'/home/peter/tmp.html'"
      ]
     },
     "execution_count": 35,
     "metadata": {},
     "output_type": "execute_result"
    }
   ],
   "source": [
    "import numpy as np\n",
    "\n",
    "from bokeh.layouts import column, row\n",
    "from bokeh.models import ColumnDataSource, CustomJS, Slider, MultiLine\n",
    "from bokeh.plotting import figure, show, save, output_file\n",
    "from bokeh.io import output_file\n",
    "from bokeh.resources import CDN\n",
    "from bokeh.embed import file_html\n",
    "import IPython\n",
    "UMAX = 10\n",
    "tc = .3\n",
    "YMIN = -2\n",
    "YMAX = 4\n",
    "NUM = 100\n",
    "biases = np.linspace(-2 * UMAX, 2 * UMAX, NUM)\n",
    "lambda1 = np.zeros(NUM)\n",
    "lambda2 = np.zeros(NUM)\n",
    "lambda3 = np.zeros(NUM)\n",
    "\n",
    "def determinant(epsilon, U=UMAX, tc=tc):\n",
    "    \"\"\"Calculate determinant of H - lambda I for given bias epsilon.\"\"\"\n",
    "    return np.roots(np.array([1, -2 * U, U**2 - epsilon**2 - 4 * tc**2, 4 * U * tc**2]))\n",
    "\n",
    "roots = np.zeros((NUM, 3))\n",
    "for i in range(NUM):\n",
    "    roots[i] = determinant(biases[i])\n",
    "# there is only one crossing, of the (2,0)&(0,2) states at \\epsilon=0.\n",
    "# it's probably out of graph range, but...\n",
    "\n",
    "sorted = np.sort(roots)\n",
    "halfway = (NUM-1) // 2 + 1\n",
    "# (2,0)\n",
    "lambda1[:halfway] = sorted[:halfway,1]\n",
    "lambda1[halfway:] = sorted[halfway:,2]\n",
    "# (1,1)\n",
    "lambda2 = sorted[:,0]\n",
    "# (0,2)\n",
    "lambda3[:halfway] = sorted[:halfway,2]\n",
    "lambda3[halfway:] = sorted[halfway:,1]\n",
    "\n",
    "source = ColumnDataSource(data=dict(biases=biases, lambda1=lambda1, lambda2=lambda2, lambda3=lambda3))\n",
    "\n",
    "plot = figure(y_range=(YMIN, YMAX), x_range=(-2 * UMAX, 2 * UMAX), width=400, height=400,\n",
    "              x_axis_label=r\"$$\\text{bias }\\epsilon\\text{ (energy)}$$\",\n",
    "              y_axis_label=r\"$$E\\text{ Energy}$$\")\n",
    "\n",
    "plot.line('biases', 'lambda1', source=source)\n",
    "plot.line('biases', 'lambda2', source=source)\n",
    "plot.line('biases', 'lambda3', source=source)\n",
    "\n",
    "U_slider = Slider(start=1, end=1.5 * UMAX, value=UMAX, step=.05, title=r\"$$U$$\")\n",
    "tc_slider = Slider(start=0.05, end=0.5, value=tc, step=.01, title=r\"$$t_c$$\")\n",
    "\n",
    "callback = CustomJS(args=dict(source=source, Uslider=U_slider, tcslider=tc_slider, num=NUM),\n",
    "                    code=\"\"\"\n",
    "    const U = Uslider.value;\n",
    "    const tc = tcslider.value;\n",
    "    const NUM = num;\n",
    "    const HALFWAY = Math.floor((NUM - 1) / 2) + 1;\n",
    "\n",
    "    const biases = source.data.biases;\n",
    "    const lambda1 = [];\n",
    "    const lambda2 = [];\n",
    "    const lambda3 = [];\n",
    "\n",
    "    var roots = [];\n",
    "    for (let i = 0; i < biases.length; i++) {\n",
    "        roots = math.polynomialRoot(2 * U * tc * tc, U * U - biases[i] * biases[i] - 2 * tc * tc, -2 * U, 1);\n",
    "        roots.sort();\n",
    "        lambda2.push(roots[0]);\n",
    "        if (i < HALFWAY) {\n",
    "            lambda1.push(roots[1]);\n",
    "            lambda3.push(roots[2]);\n",
    "        } else {\n",
    "            lambda3.push(roots[1]);\n",
    "            lambda1.push(roots[2]);\n",
    "        }\n",
    "    }\n",
    "\n",
    "    source.data = { biases, lambda1, lambda2, lambda3 }\n",
    "\"\"\")\n",
    "\n",
    "U_slider.js_on_change('value', callback)\n",
    "tc_slider.js_on_change('value', callback)\n",
    "\n",
    "html_repr = file_html(row(plot, column(U_slider, tc_slider)), CDN)\n",
    "IPython.display.HTML(html_repr)\n",
    "# debugging\n",
    "# output_file(filename=\"/home/peter/tmp.html\")\n",
    "# save(plot)"
   ]
  },
  {
   "cell_type": "markdown",
   "metadata": {},
   "source": [
    "This is a simple \"spaghetti diagram,\" and it (sort of) tells us some things about the dynamics of the system. At each of the anticrossings at $\\epsilon=\\pm U$, the mostly likely state changes from (0,2) to (1,1) or (1,1) to (2,0). In most spagetti diagrams, you're going to see a whole lot of anticrossings (a.k.a. \"avoided crossings\"), so let's go over them in more detail. \n",
    "\n",
    "The energy of the ground state is graphed as the lowest curve, and, as the name \"anticrossing\" suggests, it never actually switches places with another eigenvalue. So where does the state change come from? Let's look back at the Hamiltonian. Let's assume $t_c\\ll U\\pm\\epsilon$. Then the matrix is basically already diagonalized, and we can read the eigenvalues of the diagonal. When $|\\epsilon|\\ll U$, the ground state is at about 0 energy, and the eigenstate is basically (1,1). This is the middle portion of our graph. But when $|\\epsilon|\\gg U$, the ground state becomes $U\\pm\\epsilon$, and the eigenstate changes to either (2,0) or (0,2)! So, while the eigenvalues do not cross, the eigenstates do switch around, which is why the ground state changes. \n",
    "\n",
    "We can also look at the case where $\\epsilon=U$. Looking at the upper left 2x2 block of the Hamiltonian, $\\begin{pmatrix}0&\\sqrt{2}t_c\\\\\\sqrt{2}t_c&0\\end{pmatrix}$, we can see two of the eigenvalues will be $\\lambda=\\pm\\sqrt{2}t_c$, with corresponding eigenstates $\\frac{1}{\\sqrt{2}}\\begin{pmatrix}\\pm1\\\\1\\\\0\\end{pmatrix}$. So the system is in a pretty even mix of the (2,0) and (1,1) states around $\\epsilon=U$; there is no sudden switch, but a smoothly varying change in probabilities. as $\\epsilon$ increases, eigenstate associated with the ground state approaches $\\begin{pmatrix}1\\\\0\\\\0\\end{pmatrix}$. "
   ]
  },
  {
   "cell_type": "markdown",
   "metadata": {},
   "source": [
    "## A New Spin on Things"
   ]
  },
  {
   "cell_type": "markdown",
   "metadata": {},
   "source": [
    "Up until now we have ignored electron spin, but of course the spin states of the electrons affect the energy of having two electrons in the same dot. The spin singlet state has energy $E_S=U\\pm\\epsilon$. We will assume there are no magnetic fields for the moment, so the three spin-triplets states are degenerate with energy $E_T=E_S+J$. \n",
    "\n",
    "So, there are now six states our system can be in: still (2,0), (1,1), and (0,2), but now in each case the electrons can be in either singlet or triplet states. We will assume the electrons' spin does not change over the timescales we care about. So, the Hamiltonian can simply be written as $\\hat H=\\left(\\begin{array}{c|c}\\hat H_S&0\\\\\\hline0&\\hat H_T\\end{array}\\right)$, where $\\hat H_S$ is the same as our Hamiltonian above and $\\hat H_T=\\begin{pmatrix}U+J^\\text{max}-\\epsilon&\\sqrt{2}t_c&0\\\\\\sqrt{2}t_c&0&\\sqrt{2}t_c\\\\0&\\sqrt{2}t_c&U+J^\\text{max}+\\epsilon\\end{pmatrix}$. In other words, it looks exactly the same except with anticrossings at $\\epsilon=\\pm(U+J^\\text{max})$. The graph would thus look like this:"
   ]
  },
  {
   "cell_type": "code",
   "execution_count": null,
   "metadata": {},
   "outputs": [],
   "source": [
    "import numpy as np\n",
    "\n",
    "from bokeh.layouts import column, row\n",
    "from bokeh.models import ColumnDataSource, CustomJS, Slider, MultiLine\n",
    "from bokeh.plotting import figure, show, save, output_file\n",
    "from bokeh.io import output_file\n",
    "from bokeh.resources import CDN\n",
    "from bokeh.embed import file_html\n",
    "import IPython\n",
    "UMAX = 10\n",
    "tc = .3\n",
    "YMIN = -2\n",
    "YMAX = 4\n",
    "NUM = 100\n",
    "biases = np.linspace(-2.5 * UMAX, 2.5 * UMAX, NUM)\n",
    "lambda1 = np.zeros(NUM)\n",
    "lambda2 = np.zeros(NUM)\n",
    "lambda3 = np.zeros(NUM)\n",
    "triplet1 = np.zeros(NUM)\n",
    "triplet2 = np.zeros(NUM)\n",
    "triplet3 = np.zeros(NUM)\n",
    "\n",
    "def determinant(epsilon, U=UMAX, tc=tc):\n",
    "    \"\"\"Calculate determinant of H - lambda I for given bias epsilon.\"\"\"\n",
    "    return np.roots(np.array([1, -2 * U, U**2 - epsilon**2 - 4 * tc**2, 4 * U * tc**2]))\n",
    "\n",
    "roots = np.zeros((NUM, 3))\n",
    "for i in range(NUM):\n",
    "    roots[i] = determinant(biases[i])\n",
    "# there is only one crossing, of the (2,0)&(0,2) states at \\epsilon=0.\n",
    "# it's probably out of graph range, but...\n",
    "\n",
    "sorted = np.sort(roots)\n",
    "halfway = (NUM-1) // 2 + 1\n",
    "# (2,0)\n",
    "lambda1[:halfway] = sorted[:halfway,1]\n",
    "lambda1[halfway:] = sorted[halfway:,2]\n",
    "# (1,1)\n",
    "lambda2 = sorted[:,0]\n",
    "# (0,2)\n",
    "lambda3[:halfway] = sorted[:halfway,2]\n",
    "lambda3[halfway:] = sorted[halfway:,1]\n",
    "\n",
    "for i in range(NUM):\n",
    "    roots[i] = determinant(biases[i], U=UMAX*1.5)\n",
    "\n",
    "sorted = np.sort(roots)\n",
    "halfway = (NUM-1) // 2 + 1\n",
    "# (2,0)\n",
    "triplet1[:halfway] = sorted[:halfway,1]\n",
    "triplet1[halfway:] = sorted[halfway:,2]\n",
    "# (1,1)\n",
    "triplet2 = sorted[:,0]\n",
    "# (0,2)\n",
    "triplet3[:halfway] = sorted[:halfway,2]\n",
    "triplet3[halfway:] = sorted[halfway:,1]\n",
    "\n",
    "source = ColumnDataSource(data=dict(biases=biases, lambda1=lambda1, lambda2=lambda2, lambda3=lambda3,\n",
    "                                    triplet1=triplet1, triplet2=triplet2, triplet3=triplet3))\n",
    "\n",
    "plot = figure(y_range=(YMIN, YMAX), x_range=(-2.5 * UMAX, 2.5 * UMAX), width=400, height=400,\n",
    "              x_axis_label=r\"$$\\text{bias }\\epsilon\\text{ (energy)}$$\",\n",
    "              y_axis_label=r\"$$E\\text{ (energy)}$$\")\n",
    "\n",
    "plot.line('biases', 'lambda1', source=source, color='blue', legend_label=\"Singlet\")\n",
    "plot.line('biases', 'lambda2', source=source, color='blue')\n",
    "plot.line('biases', 'lambda3', source=source, color='blue')\n",
    "\n",
    "plot.line('biases', 'triplet1', source=source, color='red', legend_label=\"Triplet\")\n",
    "plot.line('biases', 'triplet2', source=source, color='red')\n",
    "plot.line('biases', 'triplet3', source=source, color='red')\n",
    "\n",
    "U_slider = Slider(start=1, end=1.5 * UMAX, value=UMAX, step=.05, title=r\"$$U$$\")\n",
    "tc_slider = Slider(start=0.05, end=0.5, value=tc, step=.01, title=r\"$$t_c$$\")\n",
    "\n",
    "# update if above code ever gets working\n",
    "callback = CustomJS(args=dict(source=source, Uslider=U_slider, tcslider=tc_slider, num=NUM),\n",
    "                    code=\"\"\"\n",
    "    const U = Uslider.value;\n",
    "    const tc = tcslider.value;\n",
    "    const NUM = num;\n",
    "    const HALFWAY = Math.floor((NUM - 1) / 2) + 1;\n",
    "\n",
    "    const biases = source.data.biases;\n",
    "    const lambda1 = [];\n",
    "    const lambda2 = [];\n",
    "    const lambda3 = [];\n",
    "\n",
    "    var roots = [];\n",
    "    for (let i = 0; i < biases.length; i++) {\n",
    "        roots = math.polynomialRoot(2 * U * tc * tc, U * U - biases[i] * biases[i] - 2 * tc * tc, -2 * U, 1);\n",
    "        roots.sort();\n",
    "        lambda2.push(roots[0]);\n",
    "        if (i < HALFWAY) {\n",
    "            lambda1.push(roots[1]);\n",
    "            lambda3.push(roots[2]);\n",
    "        } else {\n",
    "            lambda3.push(roots[1]);\n",
    "            lambda1.push(roots[2]);\n",
    "        }\n",
    "    }\n",
    "\n",
    "    source.data = { biases, lambda1, lambda2, lambda3 }\n",
    "\"\"\")\n",
    "\n",
    "U_slider.js_on_change('value', callback)\n",
    "tc_slider.js_on_change('value', callback)\n",
    "\n",
    "html_repr = file_html(row(plot, column(U_slider, tc_slider)), CDN)\n",
    "IPython.display.HTML(html_repr)\n",
    "# debugging\n",
    "# output_file(filename=\"/home/peter/tmp.html\")\n",
    "# save(plot)"
   ]
  },
  {
   "cell_type": "markdown",
   "metadata": {},
   "source": [
    "## Pauli Spin Blockade\n",
    "Note that when $U<|\\epsilon|<U+J^\\text{max}$, the electrons will prefer a (0,2) or (2,0) state if they are in a spin-singlet state, but they will prefer a (1,1) state if they are a spin-triplet. This is the basis for Pauli spin blockade: Set up a source and drain on each side of a double dot containing two electrons in a (1,1) state with unknown spins. Then, the bias is set to be $-U-J^\\text{max}<\\epsilon<-U$. If the electrons are in a spin-singlet state, the electron in dot 1 will be happy to hop to dot 2 and then from there into the drain. Another electron will load into dot 1 from the source and the process can repeat, creating a current. On the other hand, if the electrons are in a triplet state, the (0,2) state is not favorable, so the electron in dot 1 will not move. This is known as ``Pauli spin blockade''. It is much easier to measure the charge in each dot over time than it is to directly measure the spins of each electron. By looking to see if dot 1 is left empty at any point as electrons travel into and out of it, you can see whether the two electrons you started with were in a singlet state. If dot 1 always has an electron in it, you know the two electrons were in a triplet state."
   ]
  },
  {
   "cell_type": "code",
   "execution_count": null,
   "metadata": {},
   "outputs": [],
   "source": [
    "from IPython.display import Video\n",
    "Video(\"PauliSpinBlockade.mp4\", embed=True, height=400)"
   ]
  },
  {
   "cell_type": "markdown",
   "metadata": {},
   "source": [
    "## Valley Blockade\n",
    "Unfortunately, there is yet another complication. Silicon quantum dots have two degenerate valley orbits. As electrons are fermions, a pair of electrons cannot be in a symmetric spin-singlet, vally-singlet state, so the lowest-energy states are three degenerate spin-triplet, valley-singlet orbitals. "
   ]
  },
  {
   "cell_type": "markdown",
   "metadata": {},
   "source": []
  }
 ],
 "metadata": {
  "kernelspec": {
   "display_name": "Python 3 (ipykernel)",
   "language": "python",
   "name": "python3"
  },
  "language_info": {
   "codemirror_mode": {
    "name": "ipython",
    "version": 3
   },
   "file_extension": ".py",
   "mimetype": "text/x-python",
   "name": "python",
   "nbconvert_exporter": "python",
   "pygments_lexer": "ipython3",
   "version": "3.10.12"
  }
 },
 "nbformat": 4,
 "nbformat_minor": 4
}
