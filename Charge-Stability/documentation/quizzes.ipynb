{
 "cells": [
  {
   "cell_type": "markdown",
   "metadata": {
    "user_expressions": []
   },
   "source": [
    "# Quizzes in Jupyter Book\n",
    "\n",
    "Jupyter Book allows interactive learning like quizzes \n",
    "\n",
    "## Quizzes\n",
    "To add quizzes and flashcards into your jupyter book page, you first need to install two packages.\n",
    "```\n",
    "pip install jupyterquiz\n",
    "pip install jupytercards\n",
    "```\n",
    "The instructions for installing jupyterquiz can be found [here](https://github.com/jmshea/jupyterquiz) and to install jupytercards, look [here](https://github.com/jmshea/jupytercards).\n",
    "\n",
    "They both work by using json files that contain all of the questions or flashcards. An example of one question is \n",
    "```\n",
    "{\n",
    "    \"question\": \"What is the best day of the week\",\n",
    "    \"type\": \"multiple_choice\",\n",
    "    \"answers\": [\n",
    "      {\n",
    "        \"answer\": \"Monday\",\n",
    "        \"correct\": false,\n",
    "        \"feedback\": \"That is an interesting choice\"\n",
    "      },\n",
    "      {\n",
    "          \"answer\": \"Tuesday\",\n",
    "          \"correct\": false,\n",
    "          \"feedback\": \"Why???\"\n",
    "\n",
    "      },\n",
    "      {\n",
    "          \"answer\": \"Friday\",\n",
    "          \"correct\": true\n",
    "      }\n",
    "    ]\n",
    "  }\n",
    "```"
   ]
  },
  {
   "cell_type": "markdown",
   "metadata": {
    "user_expressions": []
   },
   "source": [
    "**Example Quiz**\n",
    "\n",
    "Answer the Following Questions"
   ]
  },
  {
   "cell_type": "code",
   "execution_count": 7,
   "metadata": {
    "tags": []
   },
   "outputs": [
    {
     "ename": "AttributeError",
     "evalue": "module 'importlib.resources' has no attribute 'files'",
     "output_type": "error",
     "traceback": [
      "\u001b[0;31m---------------------------------------------------------------------------\u001b[0m",
      "\u001b[0;31mAttributeError\u001b[0m                            Traceback (most recent call last)",
      "\u001b[1;32m/Users/rebeccalilyverghese/Desktop/Clinic/HRL-Labs-Clinic/Charge-Stability/documentation/quizzes.ipynb Cell 4\u001b[0m line \u001b[0;36m1\n\u001b[0;32m----> <a href='vscode-notebook-cell:/Users/rebeccalilyverghese/Desktop/Clinic/HRL-Labs-Clinic/Charge-Stability/documentation/quizzes.ipynb#W3sZmlsZQ%3D%3D?line=0'>1</a>\u001b[0m display_quiz(\u001b[39m\"\u001b[39;49m\u001b[39m./questions/demo_questions.json\u001b[39;49m\u001b[39m\"\u001b[39;49m, colors\u001b[39m=\u001b[39;49m\u001b[39m'\u001b[39;49m\u001b[39mfdsp\u001b[39;49m\u001b[39m'\u001b[39;49m)\n",
      "File \u001b[0;32m~/Desktop/Clinic/HRL-Labs-Clinic/venv/lib/python3.8/site-packages/jupyterquiz/dynamic.py:126\u001b[0m, in \u001b[0;36mdisplay_quiz\u001b[0;34m(ref, num, shuffle_questions, shuffle_answers, preserve_responses, border_radius, question_alignment, max_width, colors)\u001b[0m\n\u001b[1;32m    124\u001b[0m styles\u001b[39m+\u001b[39m\u001b[39m=\u001b[39m \u001b[39m\"\u001b[39m\u001b[39m}\u001b[39m\u001b[39m\\n\u001b[39;00m\u001b[39m\\n\u001b[39;00m\u001b[39m\"\u001b[39m\n\u001b[1;32m    125\u001b[0m \u001b[39m#print(styles)\u001b[39;00m\n\u001b[0;32m--> 126\u001b[0m f \u001b[39m=\u001b[39m importlib\u001b[39m.\u001b[39;49mresources\u001b[39m.\u001b[39;49mfiles(package)\u001b[39m.\u001b[39mjoinpath(\u001b[39m'\u001b[39m\u001b[39mstyles.css\u001b[39m\u001b[39m'\u001b[39m)\n\u001b[1;32m    127\u001b[0m css \u001b[39m=\u001b[39m f\u001b[39m.\u001b[39mread_bytes()\n\u001b[1;32m    128\u001b[0m styles \u001b[39m+\u001b[39m\u001b[39m=\u001b[39m css\u001b[39m.\u001b[39mdecode(\u001b[39m\"\u001b[39m\u001b[39mutf-8\u001b[39m\u001b[39m\"\u001b[39m)\n",
      "\u001b[0;31mAttributeError\u001b[0m: module 'importlib.resources' has no attribute 'files'"
     ]
    }
   ],
   "source": [
    "from jupyterquiz import display_quiz\n",
    "display_quiz(\"./questions/demo_questions.json\", colors='fdsp')"
   ]
  },
  {
   "cell_type": "markdown",
   "metadata": {},
   "source": [
    "We could also create the quiz directly using HTML"
   ]
  },
  {
   "cell_type": "code",
   "execution_count": 17,
   "metadata": {},
   "outputs": [
    {
     "data": {
      "text/html": [
       "\n",
       "<!DOCTYPE html>\n",
       "<html lang=\"en\">\n",
       "<head>\n",
       "    <meta charset=\"UTF-8\">\n",
       "    <meta name=\"viewport\" content=\"width=device-width, initial-scale=1.0\">\n",
       "    <title>HTML Quiz</title>\n",
       "    <style>\n",
       "        body {\n",
       "            font-family: Arial, sans-serif;\n",
       "            margin: 20px;\n",
       "        }\n",
       "\n",
       "        .quiz-container {\n",
       "            max-width: 600px;\n",
       "            margin: auto;\n",
       "        }\n",
       "\n",
       "        .question {\n",
       "            margin-bottom: 10px;\n",
       "        }\n",
       "\n",
       "        .options label {\n",
       "            display: block;\n",
       "            margin-bottom: 5px;\n",
       "        }\n",
       "\n",
       "        #result {\n",
       "            margin-top: 20px;\n",
       "            font-weight: bold;\n",
       "        }\n",
       "    </style>\n",
       "</head>\n",
       "<body>\n",
       "\n",
       "<div class=\"quiz-container\">\n",
       "    <h2>HTML Quiz</h2>\n",
       "\n",
       "    <div class=\"question\" id=\"question1\">\n",
       "        <p>1. What does HRL stand for?</p>\n",
       "        <div class=\"options\">\n",
       "            <label><input type=\"radio\" name=\"q1\" value=\"a\"> a) Happy Research Lab</label>\n",
       "            <label><input type=\"radio\" name=\"q1\" value=\"b\"> b) Hughes Research Laboratories</label>\n",
       "            <label><input type=\"radio\" name=\"q1\" value=\"c\"> c) High Reading Level</label>\n",
       "        </div>\n",
       "    </div>\n",
       "\n",
       "    <div class=\"question\" id=\"question2\">\n",
       "        <p>2. When was Harvey Mudd College founded?</p>\n",
       "        <div class=\"options\">\n",
       "            <label><input type=\"radio\" name=\"q2\" value=\"a\"> a) 1955</label>\n",
       "            <label><input type=\"radio\" name=\"q2\" value=\"b\"> b) 2020</label>\n",
       "            <label><input type=\"radio\" name=\"q2\" value=\"c\"> c) 1492</label>\n",
       "        </div>\n",
       "    </div>\n",
       "\n",
       "    <button onclick=\"submitQuiz()\">Submit Quiz</button>\n",
       "\n",
       "    <div id=\"result\"></div>\n",
       "</div>\n",
       "\n",
       "<script>\n",
       "    function submitQuiz() {\n",
       "        // Get user answers\n",
       "        const answer1 = document.querySelector('input[name=\"q1\"]:checked');\n",
       "        const answer2 = document.querySelector('input[name=\"q2\"]:checked');\n",
       "\n",
       "        // Check if all questions are answered\n",
       "        if (!answer1 || !answer2) {\n",
       "            alert('Please answer all questions before submitting.');\n",
       "            return;\n",
       "        }\n",
       "\n",
       "        // Check answers and display result\n",
       "        const resultContainer = document.getElementById('result');\n",
       "        const correctAnswers = 0; // Add correct answers here\n",
       "\n",
       "        if (answer1.value === 'b') {\n",
       "            correctAnswers++;\n",
       "        }\n",
       "\n",
       "        if (answer2.value === 'a') {\n",
       "            correctAnswers++;\n",
       "        }\n",
       "\n",
       "        resultContainer.innerHTML = `You got ${correctAnswers} out of 2 correct!`;\n",
       "    }\n",
       "</script>\n",
       "\n",
       "</body>\n",
       "</html>\n"
      ],
      "text/plain": [
       "<IPython.core.display.HTML object>"
      ]
     },
     "metadata": {},
     "output_type": "display_data"
    },
    {
     "data": {
      "application/javascript": "submitQuiz();",
      "text/plain": [
       "<IPython.core.display.Javascript object>"
      ]
     },
     "metadata": {},
     "output_type": "display_data"
    }
   ],
   "source": [
    "from IPython.display import HTML, Javascript\n",
    "\n",
    "html_code = \"\"\"\n",
    "<!DOCTYPE html>\n",
    "<html lang=\"en\">\n",
    "<head>\n",
    "    <meta charset=\"UTF-8\">\n",
    "    <meta name=\"viewport\" content=\"width=device-width, initial-scale=1.0\">\n",
    "    <title>HTML Quiz</title>\n",
    "    <style>\n",
    "        body {\n",
    "            font-family: Arial, sans-serif;\n",
    "            margin: 20px;\n",
    "        }\n",
    "\n",
    "        .quiz-container {\n",
    "            max-width: 600px;\n",
    "            margin: auto;\n",
    "        }\n",
    "\n",
    "        .question {\n",
    "            margin-bottom: 10px;\n",
    "        }\n",
    "\n",
    "        .options label {\n",
    "            display: block;\n",
    "            margin-bottom: 5px;\n",
    "        }\n",
    "\n",
    "        #result {\n",
    "            margin-top: 20px;\n",
    "            font-weight: bold;\n",
    "        }\n",
    "    </style>\n",
    "</head>\n",
    "<body>\n",
    "\n",
    "<div class=\"quiz-container\">\n",
    "    <h2>HTML Quiz</h2>\n",
    "\n",
    "    <div class=\"question\" id=\"question1\">\n",
    "        <p>1. What does HRL stand for?</p>\n",
    "        <div class=\"options\">\n",
    "            <label><input type=\"radio\" name=\"q1\" value=\"a\"> a) Happy Research Lab</label>\n",
    "            <label><input type=\"radio\" name=\"q1\" value=\"b\"> b) Hughes Research Laboratories</label>\n",
    "            <label><input type=\"radio\" name=\"q1\" value=\"c\"> c) High Reading Level</label>\n",
    "        </div>\n",
    "    </div>\n",
    "\n",
    "    <div class=\"question\" id=\"question2\">\n",
    "        <p>2. When was Harvey Mudd College founded?</p>\n",
    "        <div class=\"options\">\n",
    "            <label><input type=\"radio\" name=\"q2\" value=\"a\"> a) 1955</label>\n",
    "            <label><input type=\"radio\" name=\"q2\" value=\"b\"> b) 2020</label>\n",
    "            <label><input type=\"radio\" name=\"q2\" value=\"c\"> c) 1492</label>\n",
    "        </div>\n",
    "    </div>\n",
    "\n",
    "    <button onclick=\"submitQuiz()\">Submit Quiz</button>\n",
    "\n",
    "    <div id=\"result\"></div>\n",
    "</div>\n",
    "\n",
    "<script>\n",
    "    function submitQuiz() {\n",
    "        // Get user answers\n",
    "        const answer1 = document.querySelector('input[name=\"q1\"]:checked');\n",
    "        const answer2 = document.querySelector('input[name=\"q2\"]:checked');\n",
    "\n",
    "        // Check if all questions are answered\n",
    "        if (!answer1 || !answer2) {\n",
    "            alert('Please answer all questions before submitting.');\n",
    "            return;\n",
    "        }\n",
    "\n",
    "        // Check answers and display result\n",
    "        const resultContainer = document.getElementById('result');\n",
    "        const correctAnswers = 0; // Add correct answers here\n",
    "\n",
    "        if (answer1.value === 'b') {\n",
    "            correctAnswers++;\n",
    "        }\n",
    "\n",
    "        if (answer2.value === 'a') {\n",
    "            correctAnswers++;\n",
    "        }\n",
    "\n",
    "        resultContainer.innerHTML = `You got ${correctAnswers} out of 2 correct!`;\n",
    "    }\n",
    "</script>\n",
    "\n",
    "</body>\n",
    "</html>\n",
    "\"\"\"\n",
    "\n",
    "# Display the HTML code in the Jupyter Notebook cell\n",
    "display(HTML(html_code))\n",
    "display(Javascript(\"submitQuiz();\"))"
   ]
  },
  {
   "cell_type": "code",
   "execution_count": 1,
   "metadata": {},
   "outputs": [],
   "source": [
    "# from IPython.display import HTML, Javascript\n",
    "\n",
    "# html_code2 = \"\"\"\n",
    "# <!DOCTYPE html>\n",
    "# <html lang=\"en\">\n",
    " \n",
    "# <head>\n",
    "#     <meta charset=\"UTF-8\">\n",
    "#     <meta http-equiv=\"X-UA-Compatible\" content=\"IE=edge\">\n",
    "#     <meta name=\"viewport\" content=\"width=device-width, initial-scale=1.0\">\n",
    "#     <link rel=\"stylesheet\" href=\"style.css\">\n",
    " \n",
    "# </head>\n",
    " \n",
    "# <body>\n",
    "#     <div class=\"panel\">\n",
    "#         <h1>Quiz Application Using JavaScript</h1>\n",
    "#         <div class=\"question\" id=\"ques\"></div>\n",
    "#         <div class=\"options\" id=\"opt\"></div>\n",
    "#         <button onclick=\"checkAns()\" id=\"btn\">SUBMIT</button>\n",
    "#         <div id=\"score\"></div>\n",
    "#         <script src=\"script.js\"></script>\n",
    "#     </div>\n",
    " \n",
    "# </body>\n",
    " \n",
    "# </html>\n",
    "# \"\"\"\n",
    "# # Display the HTML code in the Jupyter Notebook cell\n",
    "# display(HTML(html_code2))"
   ]
  },
  {
   "cell_type": "markdown",
   "metadata": {},
   "source": [
    "## Flashcards\n",
    "You can also create flashcards. Similar to the quizzes, you create the flashcard in a json file. An example flashcard would be \n",
    "```\n",
    "{\n",
    "    \"front\": \"HMC\",\n",
    "    \"back\": \"Harvey Mudd College: A small liberal-arts college in Claremont, California\"\n",
    "}\n",
    "```"
   ]
  },
  {
   "cell_type": "code",
   "execution_count": 5,
   "metadata": {
    "tags": [
     "remove-input"
    ]
   },
   "outputs": [
    {
     "ename": "AttributeError",
     "evalue": "module 'importlib.resources' has no attribute 'files'",
     "output_type": "error",
     "traceback": [
      "\u001b[0;31m---------------------------------------------------------------------------\u001b[0m",
      "\u001b[0;31mAttributeError\u001b[0m                            Traceback (most recent call last)",
      "\u001b[1;32m/Users/rebeccalilyverghese/Desktop/Clinic/HRL-Labs-Clinic/Charge-Stability/documentation/quizzes.ipynb Cell 6\u001b[0m line \u001b[0;36m3\n\u001b[1;32m      <a href='vscode-notebook-cell:/Users/rebeccalilyverghese/Desktop/Clinic/HRL-Labs-Clinic/Charge-Stability/documentation/quizzes.ipynb#W6sZmlsZQ%3D%3D?line=0'>1</a>\u001b[0m \u001b[39mfrom\u001b[39;00m \u001b[39mjupytercards\u001b[39;00m \u001b[39mimport\u001b[39;00m display_flashcards\n\u001b[0;32m----> <a href='vscode-notebook-cell:/Users/rebeccalilyverghese/Desktop/Clinic/HRL-Labs-Clinic/Charge-Stability/documentation/quizzes.ipynb#W6sZmlsZQ%3D%3D?line=2'>3</a>\u001b[0m display_flashcards(\u001b[39m\"\u001b[39;49m\u001b[39m./flashcards/demo_flashcards.json\u001b[39;49m\u001b[39m\"\u001b[39;49m)\n",
      "File \u001b[0;32m~/Desktop/Clinic/HRL-Labs-Clinic/venv/lib/python3.8/site-packages/jupytercards/dynamic.py:96\u001b[0m, in \u001b[0;36mdisplay_flashcards\u001b[0;34m(ref, keyControl, grabFocus, front_colors, back_colors, text_colors)\u001b[0m\n\u001b[1;32m     94\u001b[0m \u001b[39m# Loading CSS Styles\u001b[39;00m\n\u001b[1;32m     95\u001b[0m styles \u001b[39m=\u001b[39m \u001b[39m\"\u001b[39m\u001b[39m<style>\u001b[39m\u001b[39m\\n\u001b[39;00m\u001b[39m\"\u001b[39m\n\u001b[0;32m---> 96\u001b[0m f \u001b[39m=\u001b[39m importlib\u001b[39m.\u001b[39;49mresources\u001b[39m.\u001b[39;49mfiles(package)\u001b[39m.\u001b[39mjoinpath(\u001b[39m'\u001b[39m\u001b[39mstyles.css\u001b[39m\u001b[39m'\u001b[39m)\n\u001b[1;32m     97\u001b[0m css \u001b[39m=\u001b[39m f\u001b[39m.\u001b[39mread_bytes()\n\u001b[1;32m     98\u001b[0m styles \u001b[39m+\u001b[39m\u001b[39m=\u001b[39m css\u001b[39m.\u001b[39mdecode(\u001b[39m\"\u001b[39m\u001b[39mutf-8\u001b[39m\u001b[39m\"\u001b[39m)\n",
      "\u001b[0;31mAttributeError\u001b[0m: module 'importlib.resources' has no attribute 'files'"
     ]
    }
   ],
   "source": [
    "\n",
    "from jupytercards import display_flashcards\n",
    "\n",
    "display_flashcards(\"./flashcards/demo_flashcards.json\")"
   ]
  }
 ],
 "metadata": {
  "kernelspec": {
   "display_name": "Python 3 (ipykernel)",
   "language": "python",
   "name": "python3"
  },
  "language_info": {
   "codemirror_mode": {
    "name": "ipython",
    "version": 3
   },
   "file_extension": ".py",
   "mimetype": "text/x-python",
   "name": "python",
   "nbconvert_exporter": "python",
   "pygments_lexer": "ipython3",
   "version": "3.8.18"
  }
 },
 "nbformat": 4,
 "nbformat_minor": 4
}
