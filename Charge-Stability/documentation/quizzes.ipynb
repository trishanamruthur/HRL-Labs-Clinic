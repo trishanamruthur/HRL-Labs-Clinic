{
 "cells": [
  {
   "cell_type": "markdown",
   "metadata": {
    "user_expressions": []
   },
   "source": [
    "# Quizzes in Jupyter Book\n",
    "\n",
    "Jupyter Book allows interactive learning like quizzes \n",
    "\n",
    "## Quizzes\n",
    "To add quizzes and flashcards into your jupyter book page, you first need to install two packages.\n",
    "```\n",
    "pip install jupyterquiz\n",
    "pip install jupytercards\n",
    "```\n",
    "The instructions for installing jupyterquiz can be found [here](https://github.com/jmshea/jupyterquiz) and to install jupytercards, look [here](https://github.com/jmshea/jupytercards).\n",
    "\n",
    "They both work by using json files that contain all of the questions or flashcards. An example of one question is \n",
    "```\n",
    "{\n",
    "    \"question\": \"What is the best day of the week\",\n",
    "    \"type\": \"multiple_choice\",\n",
    "    \"answers\": [\n",
    "      {\n",
    "        \"answer\": \"Monday\",\n",
    "        \"correct\": false,\n",
    "        \"feedback\": \"That is an interesting choice\"\n",
    "      },\n",
    "      {\n",
    "          \"answer\": \"Tuesday\",\n",
    "          \"correct\": false,\n",
    "          \"feedback\": \"Why???\"\n",
    "\n",
    "      },\n",
    "      {\n",
    "          \"answer\": \"Friday\",\n",
    "          \"correct\": true\n",
    "      }\n",
    "    ]\n",
    "  }\n",
    "```"
   ]
  },
  {
   "cell_type": "code",
   "execution_count": 1,
   "metadata": {
    "tags": [
     "remove-input"
    ]
   },
   "outputs": [],
   "source": [
    "from jupyterquiz import display_quiz"
   ]
  },
  {
   "cell_type": "markdown",
   "metadata": {
    "user_expressions": []
   },
   "source": [
    "**Example Quiz**\n",
    "\n",
    "Answer the Following Questions"
   ]
  },
  {
   "cell_type": "code",
   "execution_count": 4,
   "metadata": {
    "tags": [
     "remove-cell"
    ]
   },
   "outputs": [
    {
     "ename": "AttributeError",
     "evalue": "module 'importlib.resources' has no attribute 'files'",
     "output_type": "error",
     "traceback": [
      "\u001b[0;31m---------------------------------------------------------------------------\u001b[0m",
      "\u001b[0;31mAttributeError\u001b[0m                            Traceback (most recent call last)",
      "\u001b[1;32m/Users/rebeccalilyverghese/Desktop/Clinic/HRL-Labs-Clinic/Charge-Stability/documentation/quizzes.ipynb Cell 4\u001b[0m line \u001b[0;36m1\n\u001b[0;32m----> <a href='vscode-notebook-cell:/Users/rebeccalilyverghese/Desktop/Clinic/HRL-Labs-Clinic/Charge-Stability/documentation/quizzes.ipynb#W3sZmlsZQ%3D%3D?line=0'>1</a>\u001b[0m display_quiz(\u001b[39m\"\u001b[39;49m\u001b[39m./questions/demo_questions.json\u001b[39;49m\u001b[39m\"\u001b[39;49m)\n",
      "File \u001b[0;32m~/Desktop/Clinic/HRL-Labs-Clinic/venv/lib/python3.8/site-packages/jupyterquiz/dynamic.py:126\u001b[0m, in \u001b[0;36mdisplay_quiz\u001b[0;34m(ref, num, shuffle_questions, shuffle_answers, preserve_responses, border_radius, question_alignment, max_width, colors)\u001b[0m\n\u001b[1;32m    124\u001b[0m styles\u001b[39m+\u001b[39m\u001b[39m=\u001b[39m \u001b[39m\"\u001b[39m\u001b[39m}\u001b[39m\u001b[39m\\n\u001b[39;00m\u001b[39m\\n\u001b[39;00m\u001b[39m\"\u001b[39m\n\u001b[1;32m    125\u001b[0m \u001b[39m#print(styles)\u001b[39;00m\n\u001b[0;32m--> 126\u001b[0m f \u001b[39m=\u001b[39m importlib\u001b[39m.\u001b[39;49mresources\u001b[39m.\u001b[39;49mfiles(package)\u001b[39m.\u001b[39mjoinpath(\u001b[39m'\u001b[39m\u001b[39mstyles.css\u001b[39m\u001b[39m'\u001b[39m)\n\u001b[1;32m    127\u001b[0m css \u001b[39m=\u001b[39m f\u001b[39m.\u001b[39mread_bytes()\n\u001b[1;32m    128\u001b[0m styles \u001b[39m+\u001b[39m\u001b[39m=\u001b[39m css\u001b[39m.\u001b[39mdecode(\u001b[39m\"\u001b[39m\u001b[39mutf-8\u001b[39m\u001b[39m\"\u001b[39m)\n",
      "\u001b[0;31mAttributeError\u001b[0m: module 'importlib.resources' has no attribute 'files'"
     ]
    }
   ],
   "source": [
    "display_quiz(\"./questions/demo_questions.json\")"
   ]
  },
  {
   "cell_type": "markdown",
   "metadata": {},
   "source": [
    "## Flashcards\n",
    "You can also create flashcards. Similar to the quizzes, you create the flashcard in a json file. An example flashcard would be \n",
    "```\n",
    "{\n",
    "    \"front\": \"HMC\",\n",
    "    \"back\": \"Harvey Mudd College: A small liberal-arts college in Claremont, California\"\n",
    "}\n",
    "```"
   ]
  },
  {
   "cell_type": "code",
   "execution_count": 5,
   "metadata": {
    "tags": [
     "remove-input"
    ]
   },
   "outputs": [
    {
     "ename": "AttributeError",
     "evalue": "module 'importlib.resources' has no attribute 'files'",
     "output_type": "error",
     "traceback": [
      "\u001b[0;31m---------------------------------------------------------------------------\u001b[0m",
      "\u001b[0;31mAttributeError\u001b[0m                            Traceback (most recent call last)",
      "\u001b[1;32m/Users/rebeccalilyverghese/Desktop/Clinic/HRL-Labs-Clinic/Charge-Stability/documentation/quizzes.ipynb Cell 6\u001b[0m line \u001b[0;36m3\n\u001b[1;32m      <a href='vscode-notebook-cell:/Users/rebeccalilyverghese/Desktop/Clinic/HRL-Labs-Clinic/Charge-Stability/documentation/quizzes.ipynb#W6sZmlsZQ%3D%3D?line=0'>1</a>\u001b[0m \u001b[39mfrom\u001b[39;00m \u001b[39mjupytercards\u001b[39;00m \u001b[39mimport\u001b[39;00m display_flashcards\n\u001b[0;32m----> <a href='vscode-notebook-cell:/Users/rebeccalilyverghese/Desktop/Clinic/HRL-Labs-Clinic/Charge-Stability/documentation/quizzes.ipynb#W6sZmlsZQ%3D%3D?line=2'>3</a>\u001b[0m display_flashcards(\u001b[39m\"\u001b[39;49m\u001b[39m./flashcards/demo_flashcards.json\u001b[39;49m\u001b[39m\"\u001b[39;49m)\n",
      "File \u001b[0;32m~/Desktop/Clinic/HRL-Labs-Clinic/venv/lib/python3.8/site-packages/jupytercards/dynamic.py:96\u001b[0m, in \u001b[0;36mdisplay_flashcards\u001b[0;34m(ref, keyControl, grabFocus, front_colors, back_colors, text_colors)\u001b[0m\n\u001b[1;32m     94\u001b[0m \u001b[39m# Loading CSS Styles\u001b[39;00m\n\u001b[1;32m     95\u001b[0m styles \u001b[39m=\u001b[39m \u001b[39m\"\u001b[39m\u001b[39m<style>\u001b[39m\u001b[39m\\n\u001b[39;00m\u001b[39m\"\u001b[39m\n\u001b[0;32m---> 96\u001b[0m f \u001b[39m=\u001b[39m importlib\u001b[39m.\u001b[39;49mresources\u001b[39m.\u001b[39;49mfiles(package)\u001b[39m.\u001b[39mjoinpath(\u001b[39m'\u001b[39m\u001b[39mstyles.css\u001b[39m\u001b[39m'\u001b[39m)\n\u001b[1;32m     97\u001b[0m css \u001b[39m=\u001b[39m f\u001b[39m.\u001b[39mread_bytes()\n\u001b[1;32m     98\u001b[0m styles \u001b[39m+\u001b[39m\u001b[39m=\u001b[39m css\u001b[39m.\u001b[39mdecode(\u001b[39m\"\u001b[39m\u001b[39mutf-8\u001b[39m\u001b[39m\"\u001b[39m)\n",
      "\u001b[0;31mAttributeError\u001b[0m: module 'importlib.resources' has no attribute 'files'"
     ]
    }
   ],
   "source": [
    "\n",
    "from jupytercards import display_flashcards\n",
    "\n",
    "display_flashcards(\"./flashcards/demo_flashcards.json\")"
   ]
  }
 ],
 "metadata": {
  "kernelspec": {
   "display_name": "Python 3 (ipykernel)",
   "language": "python",
   "name": "python3"
  },
  "language_info": {
   "codemirror_mode": {
    "name": "ipython",
    "version": 3
   },
   "file_extension": ".py",
   "mimetype": "text/x-python",
   "name": "python",
   "nbconvert_exporter": "python",
   "pygments_lexer": "ipython3",
   "version": "3.8.3"
  }
 },
 "nbformat": 4,
 "nbformat_minor": 4
}
