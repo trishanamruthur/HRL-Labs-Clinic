{
 "cells": [
  {
   "cell_type": "markdown",
   "metadata": {},
   "source": [
    "# Sliders/Interactive Elements Tutorial"
   ]
  },
  {
   "cell_type": "markdown",
   "metadata": {},
   "source": [
    "To create interactive sliders, we use the python package bokeh. You can install the necessary packages for bokeh at this [link](https://docs.bokeh.org/en/latest/docs/first_steps/installation.html)."
   ]
  },
  {
   "cell_type": "markdown",
   "metadata": {},
   "source": [
    "We start by defining functions for the mathematics of the plot, that will update based on the parameters. We then give an output file and and a set of variables that we will use to create the intiial visualization. Next, we will create sliders for the variables we wish to change."
   ]
  },
  {
   "cell_type": "markdown",
   "metadata": {},
   "source": [
    "The tricky part is that to update the graph, we rewrite the math in JavaScript, that will update the html as we move the slider. Below, we can see an example of this in action. This is a slider for changing the potential, and the resulting effect on position. "
   ]
  },
  {
   "cell_type": "code",
   "execution_count": null,
   "metadata": {},
   "outputs": [],
   "source": [
    "import numpy as np\n",
    "def g(u, v, d):\n",
    "        ''' g function (equation 3.12 in the davies paper) '''\n",
    "        R = np.sqrt(u**2 + v**2 + d**2)\n",
    "        return 1/(2*np.pi) * np.arctan(u*v/(d*R))\n",
    "\n",
    "def phi_rect(x, y, d, Vg, L, R, B, T):\n",
    "    ''' phi equation (3.11, davies paper)'''\n",
    "    return Vg*(g(x-L, y-B, d) + g(x-L, T-y, d) + g(R-x, y-B, d) + g(R-x, T-y, d))\n",
    "\n",
    "def GatePotential(gate_width, dot_width, gap, V1, VP, V2, VD, V0, depth, height, inf, x, y=0):\n",
    "    ''' returns the potential for a gate structure '''\n",
    "    out = 0\n",
    "    # first rectangle is T=+inf, B=-inf, L=-inf, R=0\n",
    "    out += phi_rect(x, y, depth, V0, -inf, 0, -inf, inf)\n",
    "    # V1: L = gap, R = gate_width+gap\n",
    "    out += phi_rect(x, y, depth, V1, gap, gate_width+gap, -height/2, height/2)\n",
    "    # Vp: L = gate_width+2gap, R = gate_width+2gap+dot_width\n",
    "    out += phi_rect(x, y, depth, VP, gate_width + 2*gap, gate_width + 2*gap+dot_width, -height/2, height/2)\n",
    "    #V2: L = gate_width+3gap+dot_width, R = 2*gate_width+3gap+dot_width\n",
    "    out += phi_rect(x, y, depth, V2, gate_width + 3*gap + dot_width, 2*gate_width + 3*gap + dot_width, -height/2, height/2)\n",
    "    #Vd: L=2*gate_width+4gap+dot_width, R=inf\n",
    "    out += phi_rect(x,y,depth,VD,2*gate_width + 4*gap + dot_width, inf, -inf, inf)\n",
    "    # return the potential accounting for all gates\n",
    "    return out"
   ]
  },
  {
   "cell_type": "code",
   "execution_count": null,
   "metadata": {},
   "outputs": [],
   "source": [
    "import numpy as np\n",
    "\n",
    "from bokeh.layouts import column, row\n",
    "from bokeh.models import ColumnDataSource, CustomJS, Slider, MultiLine\n",
    "from bokeh.plotting import figure, show\n",
    "from bokeh.io import output_file\n",
    "from bokeh.resources import CDN\n",
    "from bokeh.embed import file_html\n",
    "import IPython\n",
    "\n",
    "# needed if testing via show() in some browser installations\n",
    "# (not this exact location, of course; but something the\n",
    "#  browser can access).\n",
    "# comment out for jupyter book implementation\n",
    "# output_file(\"/Users/clinic/Desktop/HRL html/temp.html\")\n",
    "xs = np.linspace(-300e-9, 500e-9, 10000)\n",
    "ys = np.zeros_like(xs)\n",
    "GATE_WIDTH = 50e-9\n",
    "DOT_WIDTH = 90e-9\n",
    "GAP = 10e-9\n",
    "V1 = 1e-3\n",
    "VP = -1e-3\n",
    "V2= 1e-3\n",
    "VD = -1e-5\n",
    "V0 = 0\n",
    "DEPTH = 50e-9\n",
    "HEIGHT = 1\n",
    "INF = 1e5\n",
    "\n",
    "\n",
    "for i, x in enumerate(xs):\n",
    "    ys[i] = GatePotential(GATE_WIDTH,DOT_WIDTH, GAP, V1, VP, V2, VD,V0, DEPTH,HEIGHT, INF,x )\n",
    "\n",
    "\n",
    "source = ColumnDataSource(data=dict(x = xs, y = ys))\n",
    "\n",
    "plot = figure(y_range=(-9e-4, 14e-4), x_range=(-300e-9, 500e-9), width=800, height=800,\n",
    "              x_axis_label=r\"$$\\text{X Position}$$\",\n",
    "              y_axis_label=r\"$$\\text{ Potential(V)}$$\")\n",
    "\n",
    "plot.line(\"x\",\"y\",source=source)\n",
    "\n",
    "\n",
    "voltage_slider = Slider(start=-0.004, end=0.007, value= 0.001, step=0.001,format = '0.000', title=r\"$$V_1$$\")\n",
    "\n",
    "callback = CustomJS(args=dict(source=source, GATE_WIDTH = GATE_WIDTH, DOT_WIDTH = DOT_WIDTH, GAP = GAP, V1 = voltage_slider, VP = VP, V2= V2, VD = VD, V0 = V0, DEPTH = DEPTH, HEIGHT = HEIGHT, INF = INF),\n",
    "                    code=\"\"\"\n",
    "    const v1n = V1.value\n",
    "\n",
    "    const x = source.data.x\n",
    "    const y = []\n",
    "    \n",
    "    function g(u, v, d) {\n",
    "        const R = Math.sqrt(u ** 2 + v ** 2 + d ** 2);\n",
    "        return (1 / (2 * Math.PI)) * Math.atan((u * v) / (d * R));\n",
    "    }\n",
    "\n",
    "    function phi_rect(x, y, d, Vg, L, R, B, T) {\n",
    "        return Vg * (g(x - L, y - B, d) + g(x - L, T - y, d) + g(R - x, y - B, d) + g(R - x, T - y, d));\n",
    "    }\n",
    "\n",
    "    function GatePotential(gate_width, dot_width, gap, V1, VP, V2, VD, V0, depth, height, inf, x, y = 0) {\n",
    "        let out = 0;\n",
    "        out += phi_rect(x, y, depth, V0, -inf, 0, -inf, inf);\n",
    "        out += phi_rect(x, y, depth, V1, gap, gate_width + gap, -height / 2, height / 2);\n",
    "        out += phi_rect(x, y, depth, VP, gate_width + 2 * gap, gate_width + 2 * gap + dot_width, -height / 2, height / 2);\n",
    "        out += phi_rect(x, y, depth, V2, gate_width + 3 * gap + dot_width, 2 * gate_width + 3 * gap + dot_width, -height / 2, height / 2);\n",
    "        out += phi_rect(x, y, depth, VD, 2 * gate_width + 4 * gap + dot_width, inf, -inf, inf);\n",
    "        return out;\n",
    "    }\n",
    "    \n",
    "    for (let i = 0; i < x.length; i++) {\n",
    "        y[i] = GatePotential(GATE_WIDTH, DOT_WIDTH, GAP, v1n, VP, V2, VD, V0, DEPTH, HEIGHT, INF, x[i]);\n",
    "    }\n",
    "\n",
    "    source.data = {x, y}\n",
    "\"\"\")\n",
    "\n",
    "voltage_slider.js_on_change('value', callback)\n",
    "\n",
    "\n",
    "html_repr = file_html(row(plot, column(voltage_slider)), CDN)\n",
    "IPython.display.HTML(html_repr)\n",
    "# debugging\n",
    "# show(row(plot, column(voltage_slider)))"
   ]
  }
 ],
 "metadata": {
  "language_info": {
   "name": "python"
  }
 },
 "nbformat": 4,
 "nbformat_minor": 2
}
