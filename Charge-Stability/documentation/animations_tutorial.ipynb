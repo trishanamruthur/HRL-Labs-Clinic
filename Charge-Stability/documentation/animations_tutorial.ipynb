{
 "cells": [
  {
   "cell_type": "markdown",
   "metadata": {},
   "source": [
    "# Animations Tutorial"
   ]
  },
  {
   "cell_type": "markdown",
   "metadata": {},
   "source": [
    "To create animations, we use the python package [manim](https://www.manim.community/). To begin, you'll need to install the necessary packages on your machine. You can find documentation on how to install all the packages: [here](https://docs.manim.community/en/stable/installation.html)."
   ]
  },
  {
   "cell_type": "markdown",
   "metadata": {},
   "source": [
    "Manim is a useful tool to create a wide array of different animations. Basic "
   ]
  }
 ],
 "metadata": {
  "language_info": {
   "name": "python"
  }
 },
 "nbformat": 4,
 "nbformat_minor": 2
}
