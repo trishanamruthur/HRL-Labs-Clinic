{
 "cells": [
  {
   "cell_type": "markdown",
   "metadata": {},
   "source": [
    "# Loading and Unloading a Single Quantum Dot"
   ]
  },
  {
   "cell_type": "markdown",
   "metadata": {},
   "source": [
    "## Overview of a Single Spin and Single Quantum Dot\n",
    "We will briefly explain the Loss-DiVincenzo (LD) spin qubit and explain the equation of the Hamiltonian mentioned in [Burkard et al](https://drive.google.com/drive/u/0/folders/11S8B3iYFmp4PfLRgpTUuYtOEZaS9j841). \n",
    "Next, we will briefly explain the quantization of energy levels of a single quantum dot. We will include the density of states of a 0D well. "
   ]
  },
  {
   "cell_type": "markdown",
   "metadata": {},
   "source": [
    "## A Quantum Dot in the SLEDGE device\n",
    "Here, we will explain that the dot is under the SLEDGE device gates. We will include Figure 1 of [Hanson et al](https://drive.google.com/file/d/1WwClMsCgio_W2kMsU0MmD7fbYPvzaK7f/view?usp=sharing) "
   ]
  },
  {
   "cell_type": "markdown",
   "metadata": {},
   "source": [
    "## Electron Tunneling\n",
    "Our explaination will mainly focus on the mathematics of a single quantum dot detailed in [JP Dodson's thesis](https://drive.google.com/file/d/1WwClMsCgio_W2kMsU0MmD7fbYPvzaK7f/view?usp=sharing). We will explain how the M1 gate determines the chemical potential of the dot. We will then explain how different chemical potentials lead to tunneling between the source and drain. We will explain the M2 plot in Dodson Figure 2.4c. \n",
    "\n",
    "Next, we will explain how the T gates control the tunneling rates of the electron. We will explain Figure 2.4b in Dodson's thesis. We will try to find an equation that relates the voltages of the T gates to the tunneling rates. "
   ]
  },
  {
   "cell_type": "markdown",
   "metadata": {},
   "source": [
    "## Coulomb Blockade\n",
    "We will discuss how small dots and low temperatures can result in Coulomb blockade, elaborating on Dodson Figure 2.4. We will give some equations on the dependence of tunneling probability on temperature and difference in energy between the source and the first unoccupied state in the dot, incorporating a temperature slider in the subsequent animation if feasible."
   ]
  },
  {
   "cell_type": "markdown",
   "metadata": {},
   "source": [
    "## Animation of Loading and Unloading Dot\n",
    "We will have an animation showing an electron crossing into a quantum dot. We could include sliders to change the M voltage and see how that impacts the current through the dot. "
   ]
  }
 ],
 "metadata": {
  "language_info": {
   "name": "python"
  },
  "orig_nbformat": 4
 },
 "nbformat": 4,
 "nbformat_minor": 2
}
