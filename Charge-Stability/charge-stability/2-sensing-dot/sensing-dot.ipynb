{
 "cells": [
  {
   "cell_type": "markdown",
   "metadata": {},
   "source": [
    "# Measuring Charge in Quantum Dots\n",
    "\n",
    "\n",
    "## Motivation\n",
    "\n",
    "Now that we know that we *can* move electrons into quantum dots, we would like to know how many electrons are in our dots at a given time. In particular, the qubits in a SLEDGE device require three electrons each, usually distributed so one is in each dot. Furthermore, one of the easiest ways to measure the spin of the electrons in the dots is by setting up a situation where the electron in one dot will move to a different dot with an electron only when the electrons have opposite spins. These spin-to-charge mechanisms will be described in more detail in later sections, but the upshot for now is that these methods rely on being able to measure how many electrons are in a dot.\n",
    "\n",
    "## Cross capacitances\n",
    "\n",
    "We can't control the voltage of a dot directly by connecting a wire to it---by definition it can't have a free pathway for electrons to travel to and from it. Instead, we place a gate electrode near each dot. When the voltage of the gate is varied, it changes the potential of nearby dots as well due to \"cross capacitance.\" The very short explanation is that the electrode's charge increases when its voltage does, which increases the electrical potential in the surrounding area. This *decreases* the chemical potential of nearby dots because negatively-charged electrons are drawn to the higher potential. \n",
    "\n",
    "Depending on the geometry of the gate electrode and the quantum dot, different amounts of charge will be needed to cause a certain voltage difference between them. If lots of charge is needed, then $C=\\frac{q}{V}$ is high: the dot and gate voltages will tend to be similar, and changing the gate voltage will have a large effect on the dot voltage. If the reverse is true, the dot voltage will not change much if the gate voltage varies. If you would prefer a more concrete example of calculating cross capacitances, [this paper](../../../PDFs/illera&al_2015.pdf) models the gates and dots as conducting planes and spheres respectively and calculates the capacitances from there. However, the math gets complicated fast (see [this paper](../../../PDFs/crowley_2008.pdf) if you want to work through it anyway), and for our purposes we only need to know the phenomenon exists, not exact quantities. Note also that cross capacitances exist between pairs of dots as well as between gates and dots. (The linked paper also considers this).\n",
    "\n",
    "The ratio of $\\Delta V_\\text{dot}/\\Delta V_\\text{gate/other dot}$ is called the **lever arm**. With multiple gates and dots, and matrix of lever arms for each relevant pair can be constructed. Another option is to deal directly with a matrix of the cross-capacitances as the paper discussed in the [next section](double-quantum-dots:classical-model) does.\n",
    "\n",
    "In the previous section, we saw that electrons only flow through a dot from source to drain when the dot has an open energy level in between the Fermi levels of the source and drain. If the potential of the dot is changed, its available energy levels will shift up or down, moving different energy levels into or out of the \"window\" between the source and drain energies, causing the current to change. If one dot is placed close enough to another one, then the potential change caused by loading electrons into the second dot will cause measurable changes in current through the first dot, allowing us to determine how many electrons have been loaded. \n",
    "\n",
    "## Dot charge sensors\n",
    "\n",
    "```{figure} eng_potential.png\n",
    ":alt: Dodson Fig 2.6\n",
    ":height: 250px\n",
    ":align: center\n",
    ":name: eng1\n",
    "\n",
    "A rendering of the potential landscape of a triple dot with an integrated sensor dot. B1 and B2 are baths at slightly different voltages, causing a current to flow through sensor dot M1. The voltages of gates P1, P2, and P3, as well as any electrons in those dots, cause slight changes to the sensor dot's potential. Source: [Eng et al. 2015](../../../PDFs/eng&al_2015.pdf).\n",
    "```\n",
    "\n",
    "A dot charge sensor is a fancy name for a quantum dot placed nearby the quantum dots you want to measure. The sensor dot is hooked up to electrodes at different potentials so a current flows through it. When electrons load into the measured dot, it changes the potential of the sensor dot, and, as we saw on the previous page, the current flowing through the sensor dot is very sensitive to its potential.\n",
    "\n",
    "```{figure} dodson_DCS.png\n",
    ":alt: Dodson Fig 2.6\n",
    ":height: 400px\n",
    ":align: center\n",
    ":name: dodson2-6\n",
    "\n",
    "Source: [Dodson et al. 2021](../../../PDFs/dodson&al_2021.pdf).\n",
    "```\n",
    "\n",
    "The above figure shows that the current through the measurement dot is affected by the voltage of the second plunger gate, decreasing as the potential rises. But, the the current jumps at certain places. When an electron loads into the dot under P2, it lowers the potential near it, causing the current to rise in a discrete jump as the electron effectively cancels out a portion of the P2 gate's voltage. One way to think of this is that each electron added shifts the curve rightwards as higher P2 voltages are now needed to compensate for the increased negative charge.\n",
    "\n",
    "```{figure} dodson_DCS_multi-curve.png\n",
    ":alt: Dodson Fig 2.6, modified\n",
    ":height: 200px\n",
    ":align: center\n",
    ":name: dodson2-6_modified\n",
    "```\n",
    "\n",
    "While the graph without overlaid curves emphasizes the vertical jumps of decreasing size, we can see in this new image that the horizontal shifts are equal. This is to be expected because each added electron will change the potential by a constant amount. By counting each of the jumps, we can see how many electrons have been loaded into the dot.\n",
    "Another way to count the electrons is shown in graph (b), where the P2 voltage is varied at a specific frequency in addition to a steady increase. By measuring the current through M1, isolating that same frequency, and measuring its amplitutde, we can see how much the current varies due to changes in the P2 voltage. Mostly it will vary at a smooth and roughly constant rate. But, near voltages where an electron loading event occurs, the current will jump up and down as the electron pops into and out of the P2 dot, causing the spikes in the graph.\n",
    "\n",
    "## Further Reading\n",
    "\n",
    "[Fast and high-fidelity state preparation and measurement in triple-quantum-dot spin qubits](../../../PDFs/Blumoff.pdf).\n"
   ]
  },
  {
   "cell_type": "markdown",
   "metadata": {},
   "source": []
  }
 ],
 "metadata": {
  "language_info": {
   "name": "python"
  }
 },
 "nbformat": 4,
 "nbformat_minor": 2
}
