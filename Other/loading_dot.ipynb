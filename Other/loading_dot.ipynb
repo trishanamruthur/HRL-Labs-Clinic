{
 "cells": [
  {
   "cell_type": "code",
   "execution_count": 58,
   "metadata": {},
   "outputs": [],
   "source": [
    "from manim import *\n",
    "\n",
    "config.media_width = \"75%\"\n",
    "config.verbosity = \"WARNING\""
   ]
  },
  {
   "cell_type": "code",
   "execution_count": 59,
   "metadata": {},
   "outputs": [
    {
     "name": "stderr",
     "output_type": "stream",
     "text": [
      "                                                                 \r"
     ]
    },
    {
     "ename": "FileNotFoundError",
     "evalue": "[Errno 2] No such file or directory: 'media/jupyter/PotentialWell@2023-10-08@13-33-54.mp4'",
     "output_type": "error",
     "traceback": [
      "\u001b[0;31m---------------------------------------------------------------------------\u001b[0m",
      "\u001b[0;31mFileNotFoundError\u001b[0m                         Traceback (most recent call last)",
      "\u001b[1;32m/Users/rebeccalilyverghese/Desktop/Clinic/HRL-Labs-Clinic/Other/loading_dot.ipynb Cell 2\u001b[0m line \u001b[0;36m1\n\u001b[0;32m----> <a href='vscode-notebook-cell:/Users/rebeccalilyverghese/Desktop/Clinic/HRL-Labs-Clinic/Other/loading_dot.ipynb#X10sZmlsZQ%3D%3D?line=0'>1</a>\u001b[0m get_ipython()\u001b[39m.\u001b[39;49mrun_cell_magic(\u001b[39m'\u001b[39;49m\u001b[39mmanim\u001b[39;49m\u001b[39m'\u001b[39;49m, \u001b[39m'\u001b[39;49m\u001b[39m-qm PotentialWell\u001b[39;49m\u001b[39m'\u001b[39;49m, \u001b[39m\"\u001b[39;49m\u001b[39m\\n\u001b[39;49;00m\u001b[39mclass PotentialWell(Scene):\u001b[39;49m\u001b[39m\\n\u001b[39;49;00m\u001b[39m    def construct(self):\u001b[39;49m\u001b[39m\\n\u001b[39;49;00m\u001b[39m        graph = ImplicitFunction(\u001b[39;49m\u001b[39m\\n\u001b[39;49;00m\u001b[39m        lambda x, y: -(x**2-1.75)*(x**2-1.75)+2 -y,color=YELLOW)\u001b[39;49m\u001b[39m\\n\u001b[39;49;00m\u001b[39m        dot = Dot(color=BLUE).shift(3*LEFT)\u001b[39;49m\u001b[39m\\n\u001b[39;49;00m\u001b[39m        line = Line(0,1, color=RED)\u001b[39;49m\u001b[39m\\n\u001b[39;49;00m\u001b[39m        line.put_start_and_end_on([-0.6,0,0], [0.6,0,0])\u001b[39;49m\u001b[39m\\n\u001b[39;49;00m\u001b[39m        source = Text(\u001b[39;49m\u001b[39m'\u001b[39;49m\u001b[39mSource\u001b[39;49m\u001b[39m'\u001b[39;49m\u001b[39m).scale(1).move_to([-5,0,0])\u001b[39;49m\u001b[39m\\n\u001b[39;49;00m\u001b[39m        drain = Text(\u001b[39;49m\u001b[39m'\u001b[39;49m\u001b[39mDrain\u001b[39;49m\u001b[39m'\u001b[39;49m\u001b[39m).scale(1).move_to([5,0,0])\u001b[39;49m\u001b[39m\\n\u001b[39;49;00m\u001b[39m        self.add(graph)\u001b[39;49m\u001b[39m\\n\u001b[39;49;00m\u001b[39m        self.add(source)\u001b[39;49m\u001b[39m\\n\u001b[39;49;00m\u001b[39m        self.add(line)\u001b[39;49m\u001b[39m\\n\u001b[39;49;00m\u001b[39m        self.add(drain)\u001b[39;49m\u001b[39m\\n\u001b[39;49;00m\u001b[39m        self.wait()\u001b[39;49m\u001b[39m\\n\u001b[39;49;00m\u001b[39m        self.add(dot)\u001b[39;49m\u001b[39m\\n\u001b[39;49;00m\u001b[39m        self.play(Rotating(dot, radians=-PI, about_point=[-1.5,0,0], run_time=2))\u001b[39;49m\u001b[39m\\n\u001b[39;49;00m\u001b[39m        self.wait()\u001b[39;49m\u001b[39m\\n\u001b[39;49;00m\u001b[39m        self.play(Rotating(dot, radians=-PI, about_point=[1.5,0,0], run_time=2))\u001b[39;49m\u001b[39m\\n\u001b[39;49;00m\u001b[39m        self.wait()\u001b[39;49m\u001b[39m\\n\u001b[39;49;00m\u001b[39m\"\u001b[39;49m)\n",
      "File \u001b[0;32m~/Desktop/Clinic/HRL-Labs-Clinic/venv/lib/python3.8/site-packages/IPython/core/interactiveshell.py:2478\u001b[0m, in \u001b[0;36mInteractiveShell.run_cell_magic\u001b[0;34m(self, magic_name, line, cell)\u001b[0m\n\u001b[1;32m   2476\u001b[0m \u001b[39mwith\u001b[39;00m \u001b[39mself\u001b[39m\u001b[39m.\u001b[39mbuiltin_trap:\n\u001b[1;32m   2477\u001b[0m     args \u001b[39m=\u001b[39m (magic_arg_s, cell)\n\u001b[0;32m-> 2478\u001b[0m     result \u001b[39m=\u001b[39m fn(\u001b[39m*\u001b[39;49margs, \u001b[39m*\u001b[39;49m\u001b[39m*\u001b[39;49mkwargs)\n\u001b[1;32m   2480\u001b[0m \u001b[39m# The code below prevents the output from being displayed\u001b[39;00m\n\u001b[1;32m   2481\u001b[0m \u001b[39m# when using magics with decodator @output_can_be_silenced\u001b[39;00m\n\u001b[1;32m   2482\u001b[0m \u001b[39m# when the last Python token in the expression is a ';'.\u001b[39;00m\n\u001b[1;32m   2483\u001b[0m \u001b[39mif\u001b[39;00m \u001b[39mgetattr\u001b[39m(fn, magic\u001b[39m.\u001b[39mMAGIC_OUTPUT_CAN_BE_SILENCED, \u001b[39mFalse\u001b[39;00m):\n",
      "File \u001b[0;32m~/Desktop/Clinic/HRL-Labs-Clinic/venv/lib/python3.8/site-packages/manim/utils/ipython_magic.py:163\u001b[0m, in \u001b[0;36mManimMagic.manim\u001b[0;34m(self, line, cell, local_ns)\u001b[0m\n\u001b[1;32m    156\u001b[0m tmpfile \u001b[39m=\u001b[39m (\n\u001b[1;32m    157\u001b[0m     Path(config[\u001b[39m\"\u001b[39m\u001b[39mmedia_dir\u001b[39m\u001b[39m\"\u001b[39m])\n\u001b[1;32m    158\u001b[0m     \u001b[39m/\u001b[39m \u001b[39m\"\u001b[39m\u001b[39mjupyter\u001b[39m\u001b[39m\"\u001b[39m\n\u001b[1;32m    159\u001b[0m     \u001b[39m/\u001b[39m \u001b[39mf\u001b[39m\u001b[39m\"\u001b[39m\u001b[39m{\u001b[39;00m_generate_file_name()\u001b[39m}\u001b[39;00m\u001b[39m{\u001b[39;00mlocal_path\u001b[39m.\u001b[39msuffix\u001b[39m}\u001b[39;00m\u001b[39m\"\u001b[39m\n\u001b[1;32m    160\u001b[0m )\n\u001b[1;32m    162\u001b[0m \u001b[39mif\u001b[39;00m local_path \u001b[39min\u001b[39;00m \u001b[39mself\u001b[39m\u001b[39m.\u001b[39mrendered_files:\n\u001b[0;32m--> 163\u001b[0m     \u001b[39mself\u001b[39;49m\u001b[39m.\u001b[39;49mrendered_files[local_path]\u001b[39m.\u001b[39;49munlink()\n\u001b[1;32m    164\u001b[0m \u001b[39mself\u001b[39m\u001b[39m.\u001b[39mrendered_files[local_path] \u001b[39m=\u001b[39m tmpfile\n\u001b[1;32m    165\u001b[0m tmpfile\u001b[39m.\u001b[39mparent\u001b[39m.\u001b[39mmkdir(parents\u001b[39m=\u001b[39m\u001b[39mTrue\u001b[39;00m, exist_ok\u001b[39m=\u001b[39m\u001b[39mTrue\u001b[39;00m)\n",
      "File \u001b[0;32m~/opt/anaconda3/lib/python3.8/pathlib.py:1321\u001b[0m, in \u001b[0;36mPath.unlink\u001b[0;34m(self, missing_ok)\u001b[0m\n\u001b[1;32m   1319\u001b[0m     \u001b[39mself\u001b[39m\u001b[39m.\u001b[39m_raise_closed()\n\u001b[1;32m   1320\u001b[0m \u001b[39mtry\u001b[39;00m:\n\u001b[0;32m-> 1321\u001b[0m     \u001b[39mself\u001b[39;49m\u001b[39m.\u001b[39;49m_accessor\u001b[39m.\u001b[39;49munlink(\u001b[39mself\u001b[39;49m)\n\u001b[1;32m   1322\u001b[0m \u001b[39mexcept\u001b[39;00m \u001b[39mFileNotFoundError\u001b[39;00m:\n\u001b[1;32m   1323\u001b[0m     \u001b[39mif\u001b[39;00m \u001b[39mnot\u001b[39;00m missing_ok:\n",
      "\u001b[0;31mFileNotFoundError\u001b[0m: [Errno 2] No such file or directory: 'media/jupyter/PotentialWell@2023-10-08@13-33-54.mp4'"
     ]
    }
   ],
   "source": [
    "%%manim -qm PotentialWell\n",
    "\n",
    "class PotentialWell(Scene):\n",
    "    def construct(self):\n",
    "        graph = ImplicitFunction(\n",
    "        lambda x, y: -(x**2-1.75)*(x**2-1.75)+2 -y,color=YELLOW)\n",
    "        dot = Dot(color=BLUE).shift(3*LEFT)\n",
    "        line = Line(0,1, color=RED)\n",
    "        line.put_start_and_end_on([-0.6,0,0], [0.6,0,0])\n",
    "        source = Text('Source').scale(1).move_to([-5,0,0])\n",
    "        drain = Text('Drain').scale(1).move_to([5,0,0])\n",
    "        self.add(graph)\n",
    "        self.add(source)\n",
    "        self.add(line)\n",
    "        self.add(drain)\n",
    "        self.wait()\n",
    "        self.add(dot)\n",
    "        self.play(Rotating(dot, radians=-PI, about_point=[-1.5,0,0], run_time=2))\n",
    "        self.wait()\n",
    "        self.play(Rotating(dot, radians=-PI, about_point=[1.5,0,0], run_time=2))\n",
    "        self.wait()"
   ]
  },
  {
   "cell_type": "code",
   "execution_count": null,
   "metadata": {},
   "outputs": [],
   "source": [
    "%%manim -qm test_dot\n",
    "\n",
    "class test_dot(Scene):\n",
    "    def construct(self):\n",
    "        background_image = ImageMobject(\"media/images/Other/Dodson_well.png\")\n",
    "        background_image.scale(5)\n",
    "        background_image.to_edge(DOWN)\n",
    "        dot = Dot(color=BLUE).shift(3*LEFT)\n",
    "        self.add(background_image)\n",
    "        self.add(dot)\n",
    "        self.play(Rotating(dot, radians=-PI, about_point=[-1.5,0,0], run_time=2))\n",
    "        self.wait()\n",
    "        self.play(Rotating(dot, radians=-PI, about_point=[1.5,0,0], run_time=2))\n",
    "        self.wait()"
   ]
  }
 ],
 "metadata": {
  "kernelspec": {
   "display_name": "venv",
   "language": "python",
   "name": "python3"
  },
  "language_info": {
   "codemirror_mode": {
    "name": "ipython",
    "version": 3
   },
   "file_extension": ".py",
   "mimetype": "text/x-python",
   "name": "python",
   "nbconvert_exporter": "python",
   "pygments_lexer": "ipython3",
   "version": "3.8.3"
  }
 },
 "nbformat": 4,
 "nbformat_minor": 2
}
