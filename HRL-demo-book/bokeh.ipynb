{
 "cells": [
  {
   "cell_type": "markdown",
   "metadata": {},
   "source": [
    "# Sine Sliders"
   ]
  },
  {
   "cell_type": "code",
   "execution_count": null,
   "metadata": {},
   "outputs": [],
   "source": [
    "import numpy as np\n",
    "\n",
    "from bokeh.layouts import column, row\n",
    "from bokeh.models import ColumnDataSource, CustomJS, Slider\n",
    "from bokeh.plotting import figure, show\n",
    "from bokeh.io import output_file\n",
    "from bokeh.resources import CDN\n",
    "from bokeh.embed import file_html, json_item\n",
    "import json\n",
    "import IPython\n",
    "\n",
    "output_file(\"/home/peter/Documents/cs183/tmp/sinslider.html\")\n",
    "\n",
    "x = np.linspace(0, 10, 500)\n",
    "y = np.sin(x)\n",
    "\n",
    "source = ColumnDataSource(data=dict(x=x, y=y))\n",
    "\n",
    "plot = figure(y_range=(-10, 10), width=400, height=400)\n",
    "\n",
    "plot.line('x', 'y', source=source, line_width=3, line_alpha=0.6)\n",
    "\n",
    "amp = Slider(start=0.1, end=10, value=1, step=.1, title=\"Amplitude\")\n",
    "freq = Slider(start=0.1, end=10, value=1, step=.1, title=\"Frequency\")\n",
    "phase = Slider(start=-6.4, end=6.4, value=0, step=.1, title=\"Phase\")\n",
    "offset = Slider(start=-9, end=9, value=0, step=.1, title=\"Offset\")\n",
    "\n",
    "callback = CustomJS(args=dict(source=source, amp=amp, freq=freq, phase=phase, offset=offset),\n",
    "                    code=\"\"\"\n",
    "    const A = amp.value\n",
    "    const k = freq.value\n",
    "    const phi = phase.value\n",
    "    const B = offset.value\n",
    "\n",
    "    const x = source.data.x\n",
    "    const y = Array.from(x, (x) => B + A*Math.sin(k*x+phi))\n",
    "    source.data = { x, y }\n",
    "\"\"\")\n",
    "\n",
    "amp.js_on_change('value', callback)\n",
    "freq.js_on_change('value', callback)\n",
    "phase.js_on_change('value', callback)\n",
    "offset.js_on_change('value', callback)\n",
    "\n",
    "# item_text = json.dumps(json_item(row(plot, column(amp, freq, phase, offset)), \"sinsliders\"))\n",
    "# item = json.parse(item_text)\n",
    "# embed_item(item);\n",
    "html_repr = file_html(row(plot, column(amp, freq, phase, offset)), CDN)\n",
    "IPython.display.HTML(html_repr)\n",
    "# show(row(plot, column(amp, freq, phase, offset)))"
   ]
  }
 ],
 "metadata": {
  "language_info": {
   "name": "python"
  }
 },
 "nbformat": 4,
 "nbformat_minor": 2
}
