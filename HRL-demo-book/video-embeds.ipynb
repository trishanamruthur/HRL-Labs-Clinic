{
 "cells": [
  {
   "cell_type": "markdown",
   "metadata": {},
   "source": [
    "# Video Embed"
   ]
  },
  {
   "cell_type": "markdown",
   "metadata": {},
   "source": [
    "With markdown, we can create clickable image links to videos\n",
    "\n",
    "[![Metallurgy Breakthrough: 3D Printing High-Strength Aluminum](https://img.youtube.com/vi/8YwlenA4bdg/maxresdefault.jpg)](https://www.youtube.com/watch?v=8YwlenA4bdg)"
   ]
  },
  {
   "cell_type": "markdown",
   "metadata": {},
   "source": [
    "<html> \n",
    "<body> \n",
    "<p>\n",
    "We can embed local video files into a page.\n",
    "</p>\n",
    "<video width=\"400\" controls>\n",
    "  <source src=\"Metallurgy.mp4\" type=\"video/mp4\">\n",
    "</video>\n",
    "\n",
    "\n",
    "\n",
    "</body> \n",
    "</html>"
   ]
  },
  {
   "cell_type": "markdown",
   "metadata": {},
   "source": [
    "<html>\n",
    "<body>\n",
    "\n",
    "<p>\n",
    "Or we could directly embed the video within the site!\n",
    "</p>\n",
    "\n",
    "<iframe width=\"420\" height=\"345\" src=\"https://www.youtube.com/embed/8YwlenA4bdg\">\n",
    "</iframe>\n",
    "\n",
    "</body>\n",
    "</html>"
   ]
  }
 ],
 "metadata": {
  "kernelspec": {
   "display_name": "Python 3",
   "language": "python",
   "name": "python3"
  },
  "language_info": {
   "codemirror_mode": {
    "name": "ipython",
    "version": 3
   },
   "file_extension": ".py",
   "mimetype": "text/x-python",
   "name": "python",
   "nbconvert_exporter": "python",
   "pygments_lexer": "ipython3",
   "version": "3.11.4"
  },
  "orig_nbformat": 4
 },
 "nbformat": 4,
 "nbformat_minor": 2
}
