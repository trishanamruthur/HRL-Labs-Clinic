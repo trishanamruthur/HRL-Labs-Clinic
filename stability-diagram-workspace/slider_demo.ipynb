{
 "cells": [
  {
   "cell_type": "code",
   "execution_count": 11,
   "metadata": {
    "editable": true,
    "slideshow": {
     "slide_type": ""
    },
    "tags": []
   },
   "outputs": [
    {
     "data": {
      "application/vnd.jupyter.widget-view+json": {
       "model_id": "3c5dc3442596474fbe602b13101e82c5",
       "version_major": 2,
       "version_minor": 0
      },
      "image/png": "[encoded data removed]",
      "text/html": [
       "\n",
       "            <div style=\"display: inline-block;\">\n",
       "                <div class=\"jupyter-widgets widget-label\" style=\"text-align: center;\">\n",
       "                    Figure\n",
       "                </div>\n",
       "                <img src='data:image/png;base64,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' width=640.0/>\n",
       "            </div>\n",
       "        "
      ],
      "text/plain": [
       "Canvas(toolbar=Toolbar(toolitems=[('Home', 'Reset original view', 'home', 'home'), ('Back', 'Back to previous …"
      ]
     },
     "metadata": {},
     "output_type": "display_data"
    },
    {
     "data": {
      "application/vnd.jupyter.widget-view+json": {
       "model_id": "3a71366b4c194ef09818e48969f52ec5",
       "version_major": 2,
       "version_minor": 0
      },
      "text/plain": [
       "interactive(children=(FloatSlider(value=2.5000000000000004, description='cg1', max=5.0, min=0.1), FloatSlider(…"
      ]
     },
     "metadata": {},
     "output_type": "display_data"
    },
    {
     "data": {
      "text/plain": [
       "<function __main__.plot_triple_points(cg1, cg2, cl, cr, cm)>"
      ]
     },
     "execution_count": 11,
     "metadata": {},
     "output_type": "execute_result"
    }
   ],
   "source": [
    "%matplotlib widget\n",
    "\n",
    "import ipywidgets as widget\n",
    "import numpy as np\n",
    "import matplotlib.pyplot as plt\n",
    "\n",
    "# GLOBAL VARIABLES\n",
    "N = 4\n",
    "e_charge = 0.1\n",
    "\n",
    "def get_triple_points(cg1, cg2, cl, cr, cm):\n",
    "    # calculate total capacitances\n",
    "    c1 = cl+cg1+cm\n",
    "    c2 = cr+cg2+cm\n",
    "\n",
    "    # calculate addition energies\n",
    "    ec1 = e_charge**2/c1 * (1/(1-cm**2/(c1*c2)))\n",
    "    ec2 = e_charge**2/c2 * (1/(1-cm**2/(c1*c2)))\n",
    "    ecm = e_charge**2/cm * (1/(c1*c2/cm**2 - 1))\n",
    "\n",
    "    # calculate triple points of type 1 and 2\n",
    "    type1 = []\n",
    "    type2 = []\n",
    "\n",
    "    # loop over electron counts to get the points\n",
    "    for A in range(0, N):\n",
    "        for B in range(0, N):\n",
    "            # triple point type 1\n",
    "            v11 = e_charge/cg1 * (A + ec2/2 * (ec1-ecm)/(ec1*ec2-ecm**2))\n",
    "            v21 = (e_charge*((B+.5)*ec2 + A*ecm) - cg1*v11*ecm)/(cg2*ec2)\n",
    "            type1.append([v11,v21])\n",
    "            # triple point type 2\n",
    "            v12 = e_charge/cg1 * (A + ec2/2 * (ec1-ecm)/(ecm**2-ec1*ec2))\n",
    "            v22 = (e_charge*(A*ecm + (B-.5)*ec2) - cg1*v12*ecm)/(cg2*ec2)\n",
    "            type2.append([v12,v22])\n",
    "\n",
    "    # return the points\n",
    "    return np.array(type1).T, np.array(type2).T\n",
    "\n",
    "\n",
    "fig = plt.figure()\n",
    "ax = fig.add_subplot(1, 1, 1)\n",
    "\n",
    "def plot_triple_points(cg1, cg2, cl, cr, cm):\n",
    "    # do the calculations\n",
    "    type1, type2 = get_triple_points(cg1, cg2, cl, cr, cm)\n",
    "    # clear the axes\n",
    "    ax.clear()\n",
    "    # plot the lines\n",
    "\n",
    "    def plot_line_between(i, j):\n",
    "        ax.plot([type1[0,i], type2[0,j]], [type1[1,i], type2[1,j]], color='k', zorder=1)\n",
    "        \n",
    "    # this plots the shortest line between the two types of points\n",
    "    for i in range((N-1)*N):\n",
    "        if (i+1)%N == 0: continue # skip the top point\n",
    "        plot_line_between(i, i+N+1)\n",
    "    # drawing two lines up from the blue points\n",
    "    for i in range(N+1, N**2):\n",
    "        if i%N == 0: continue # skip points on the bottom row for now\n",
    "        plot_line_between(i-N, i)\n",
    "        plot_line_between(i-1, i)\n",
    "    # draw lines off of the left of the graph\n",
    "    for i in range(1, N):\n",
    "        plot_line_between(i-1, i)\n",
    "    # draw lines off of the bottom of the graph\n",
    "    for i in range(N, N**2, N):\n",
    "        plot_line_between(i-N, i)\n",
    "    # plot the points\n",
    "    ax.scatter(type1[0], type1[1], color='r', zorder=2)\n",
    "    ax.scatter(type2[0], type2[1], color='b', zorder=2)\n",
    "    \n",
    "    ax.set_xlim(0,np.max(type1[0])-0.01)\n",
    "    ax.set_ylim(0,np.max(type1[1])-0.01)\n",
    "    fig.canvas.draw_idle()\n",
    "plt.show()\n",
    "widget.interact(plot_triple_points,\n",
    "                cg1=(0.1,5,0.1),\n",
    "                cg2=(0.1,5,0.1),\n",
    "                cl=(0.1,2,0.1),\n",
    "                cr=(0.1,2,0.1),\n",
    "                cm=(0.01,20,0.1))\n",
    "\n",
    "# fig = plt.figure()\n",
    "# ax = fig.add_subplot(1, 1, 1)\n",
    "# line, = ax.plot(x, f(x, A=1, B=1, C=1))\n",
    "\n",
    "# def update(A = 1, B = 0, C = 0):\n",
    "#     line.set_ydata(f(x,A,B,C))\n",
    "#     fig.canvas.draw_idle()\n",
    "# plot_triple_points(.5, .5, .2, .2, .3)\n",
    "# plt.show()\n",
    "# widget.interact(update, A = (-4,4,0.1), B = (-4,4,0.1), C = (-4,4,0.1));\n"
   ]
  },
  {
   "cell_type": "code",
   "execution_count": null,
   "metadata": {},
   "outputs": [],
   "source": []
  },
  {
   "cell_type": "code",
   "execution_count": null,
   "metadata": {},
   "outputs": [],
   "source": []
  },
  {
   "cell_type": "code",
   "execution_count": null,
   "metadata": {},
   "outputs": [],
   "source": []
  },
  {
   "cell_type": "code",
   "execution_count": null,
   "metadata": {},
   "outputs": [],
   "source": []
  }
 ],
 "metadata": {
  "kernelspec": {
   "display_name": "Python 3 (ipykernel)",
   "language": "python",
   "name": "python3"
  },
  "language_info": {
   "codemirror_mode": {
    "name": "ipython",
    "version": 3
   },
   "file_extension": ".py",
   "mimetype": "text/x-python",
   "name": "python",
   "nbconvert_exporter": "python",
   "pygments_lexer": "ipython3",
   "version": "3.11.2"
  }
 },
 "nbformat": 4,
 "nbformat_minor": 4
}
